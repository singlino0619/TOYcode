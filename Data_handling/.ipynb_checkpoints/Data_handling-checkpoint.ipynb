{
 "cells": [
  {
   "cell_type": "code",
   "execution_count": 1,
   "metadata": {
    "collapsed": true
   },
   "outputs": [],
   "source": [
    "import pandas as pd"
   ]
  },
  {
   "cell_type": "code",
   "execution_count": 90,
   "metadata": {},
   "outputs": [
    {
     "data": {
      "text/html": [
       "<div>\n",
       "<style>\n",
       "    .dataframe thead tr:only-child th {\n",
       "        text-align: right;\n",
       "    }\n",
       "\n",
       "    .dataframe thead th {\n",
       "        text-align: left;\n",
       "    }\n",
       "\n",
       "    .dataframe tbody tr th {\n",
       "        vertical-align: top;\n",
       "    }\n",
       "</style>\n",
       "<table border=\"1\" class=\"dataframe\">\n",
       "  <thead>\n",
       "    <tr style=\"text-align: right;\">\n",
       "      <th></th>\n",
       "      <th>GCIF</th>\n",
       "      <th>PROPERTY</th>\n",
       "      <th>VALUE</th>\n",
       "    </tr>\n",
       "  </thead>\n",
       "  <tbody>\n",
       "    <tr>\n",
       "      <th>0</th>\n",
       "      <td>15560</td>\n",
       "      <td>EAD</td>\n",
       "      <td>9.970000e+11</td>\n",
       "    </tr>\n",
       "    <tr>\n",
       "      <th>1</th>\n",
       "      <td>824</td>\n",
       "      <td>EAD</td>\n",
       "      <td>2.120000e+11</td>\n",
       "    </tr>\n",
       "    <tr>\n",
       "      <th>2</th>\n",
       "      <td>20366</td>\n",
       "      <td>EAD</td>\n",
       "      <td>5.580000e+11</td>\n",
       "    </tr>\n",
       "    <tr>\n",
       "      <th>3</th>\n",
       "      <td>53515</td>\n",
       "      <td>EAD</td>\n",
       "      <td>9.710000e+11</td>\n",
       "    </tr>\n",
       "    <tr>\n",
       "      <th>4</th>\n",
       "      <td>96175</td>\n",
       "      <td>EAD</td>\n",
       "      <td>6.194499e+10</td>\n",
       "    </tr>\n",
       "  </tbody>\n",
       "</table>\n",
       "</div>"
      ],
      "text/plain": [
       "    GCIF PROPERTY         VALUE\n",
       "0  15560      EAD  9.970000e+11\n",
       "1    824      EAD  2.120000e+11\n",
       "2  20366      EAD  5.580000e+11\n",
       "3  53515      EAD  9.710000e+11\n",
       "4  96175      EAD  6.194499e+10"
      ]
     },
     "execution_count": 90,
     "metadata": {},
     "output_type": "execute_result"
    }
   ],
   "source": [
    "df_SACCR_output = pd.read_csv('SACCR_output.csv')\n",
    "df_SACCR_output.head()"
   ]
  },
  {
   "cell_type": "code",
   "execution_count": 91,
   "metadata": {
    "collapsed": true
   },
   "outputs": [],
   "source": [
    "df_SACCR_output_EAD = df_SACCR_output[df_SACCR_output['PROPERTY']=='EAD']\n",
    "df_SACCR_output_RWA = df_SACCR_output[df_SACCR_output['PROPERTY']=='RWA']\n",
    "df_SACCR_output_M = df_SACCR_output[df_SACCR_output['PROPERTY']=='M']"
   ]
  },
  {
   "cell_type": "code",
   "execution_count": 92,
   "metadata": {
    "collapsed": true
   },
   "outputs": [],
   "source": [
    "df_SACCR_output_EAD_RWA= pd.merge(df_SACCR_output_EAD,df_SACCR_output_RWA, on='GCIF')"
   ]
  },
  {
   "cell_type": "code",
   "execution_count": 106,
   "metadata": {},
   "outputs": [
    {
     "data": {
      "text/html": [
       "<div>\n",
       "<style>\n",
       "    .dataframe thead tr:only-child th {\n",
       "        text-align: right;\n",
       "    }\n",
       "\n",
       "    .dataframe thead th {\n",
       "        text-align: left;\n",
       "    }\n",
       "\n",
       "    .dataframe tbody tr th {\n",
       "        vertical-align: top;\n",
       "    }\n",
       "</style>\n",
       "<table border=\"1\" class=\"dataframe\">\n",
       "  <thead>\n",
       "    <tr style=\"text-align: right;\">\n",
       "      <th></th>\n",
       "      <th>GCIF</th>\n",
       "      <th>PROPERTY_x</th>\n",
       "      <th>VALUE_x</th>\n",
       "      <th>PROPERTY_y</th>\n",
       "      <th>VALUE_y</th>\n",
       "      <th>PROPERTY</th>\n",
       "      <th>VALUE</th>\n",
       "    </tr>\n",
       "  </thead>\n",
       "  <tbody>\n",
       "    <tr>\n",
       "      <th>0</th>\n",
       "      <td>15560</td>\n",
       "      <td>EAD</td>\n",
       "      <td>9.970000e+11</td>\n",
       "      <td>RWA</td>\n",
       "      <td>5.830000e+12</td>\n",
       "      <td>M</td>\n",
       "      <td>1.127999</td>\n",
       "    </tr>\n",
       "    <tr>\n",
       "      <th>1</th>\n",
       "      <td>824</td>\n",
       "      <td>EAD</td>\n",
       "      <td>2.120000e+11</td>\n",
       "      <td>RWA</td>\n",
       "      <td>6.610000e+12</td>\n",
       "      <td>M</td>\n",
       "      <td>2.361187</td>\n",
       "    </tr>\n",
       "    <tr>\n",
       "      <th>2</th>\n",
       "      <td>20366</td>\n",
       "      <td>EAD</td>\n",
       "      <td>5.580000e+11</td>\n",
       "      <td>RWA</td>\n",
       "      <td>9.320000e+12</td>\n",
       "      <td>M</td>\n",
       "      <td>0.871177</td>\n",
       "    </tr>\n",
       "    <tr>\n",
       "      <th>3</th>\n",
       "      <td>53515</td>\n",
       "      <td>EAD</td>\n",
       "      <td>9.710000e+11</td>\n",
       "      <td>RWA</td>\n",
       "      <td>4.570000e+12</td>\n",
       "      <td>M</td>\n",
       "      <td>0.373670</td>\n",
       "    </tr>\n",
       "    <tr>\n",
       "      <th>4</th>\n",
       "      <td>96175</td>\n",
       "      <td>EAD</td>\n",
       "      <td>6.194499e+10</td>\n",
       "      <td>RWA</td>\n",
       "      <td>4.030000e+12</td>\n",
       "      <td>M</td>\n",
       "      <td>1.594204</td>\n",
       "    </tr>\n",
       "  </tbody>\n",
       "</table>\n",
       "</div>"
      ],
      "text/plain": [
       "    GCIF PROPERTY_x       VALUE_x PROPERTY_y       VALUE_y PROPERTY     VALUE\n",
       "0  15560        EAD  9.970000e+11        RWA  5.830000e+12        M  1.127999\n",
       "1    824        EAD  2.120000e+11        RWA  6.610000e+12        M  2.361187\n",
       "2  20366        EAD  5.580000e+11        RWA  9.320000e+12        M  0.871177\n",
       "3  53515        EAD  9.710000e+11        RWA  4.570000e+12        M  0.373670\n",
       "4  96175        EAD  6.194499e+10        RWA  4.030000e+12        M  1.594204"
      ]
     },
     "execution_count": 106,
     "metadata": {},
     "output_type": "execute_result"
    }
   ],
   "source": [
    "df_SACCR_output = pd.merge(df_SACCR_output_EAD_RWA, df_SACCR_output_M, on='GCIF')\n",
    "df_SACCR_output.head()"
   ]
  },
  {
   "cell_type": "code",
   "execution_count": 102,
   "metadata": {},
   "outputs": [
    {
     "data": {
      "text/html": [
       "<div>\n",
       "<style>\n",
       "    .dataframe thead tr:only-child th {\n",
       "        text-align: right;\n",
       "    }\n",
       "\n",
       "    .dataframe thead th {\n",
       "        text-align: left;\n",
       "    }\n",
       "\n",
       "    .dataframe tbody tr th {\n",
       "        vertical-align: top;\n",
       "    }\n",
       "</style>\n",
       "<table border=\"1\" class=\"dataframe\">\n",
       "  <thead>\n",
       "    <tr style=\"text-align: right;\">\n",
       "      <th></th>\n",
       "      <th>GCIF</th>\n",
       "      <th>PROPERTY_x</th>\n",
       "      <th>EAD</th>\n",
       "      <th>PROPERTY_y</th>\n",
       "      <th>RWA</th>\n",
       "      <th>PROPERTY</th>\n",
       "      <th>M</th>\n",
       "    </tr>\n",
       "  </thead>\n",
       "  <tbody>\n",
       "    <tr>\n",
       "      <th>0</th>\n",
       "      <td>15560</td>\n",
       "      <td>EAD</td>\n",
       "      <td>9.970000e+11</td>\n",
       "      <td>RWA</td>\n",
       "      <td>5.830000e+12</td>\n",
       "      <td>M</td>\n",
       "      <td>1.127999</td>\n",
       "    </tr>\n",
       "    <tr>\n",
       "      <th>1</th>\n",
       "      <td>824</td>\n",
       "      <td>EAD</td>\n",
       "      <td>2.120000e+11</td>\n",
       "      <td>RWA</td>\n",
       "      <td>6.610000e+12</td>\n",
       "      <td>M</td>\n",
       "      <td>2.361187</td>\n",
       "    </tr>\n",
       "    <tr>\n",
       "      <th>2</th>\n",
       "      <td>20366</td>\n",
       "      <td>EAD</td>\n",
       "      <td>5.580000e+11</td>\n",
       "      <td>RWA</td>\n",
       "      <td>9.320000e+12</td>\n",
       "      <td>M</td>\n",
       "      <td>0.871177</td>\n",
       "    </tr>\n",
       "    <tr>\n",
       "      <th>3</th>\n",
       "      <td>53515</td>\n",
       "      <td>EAD</td>\n",
       "      <td>9.710000e+11</td>\n",
       "      <td>RWA</td>\n",
       "      <td>4.570000e+12</td>\n",
       "      <td>M</td>\n",
       "      <td>0.373670</td>\n",
       "    </tr>\n",
       "    <tr>\n",
       "      <th>4</th>\n",
       "      <td>96175</td>\n",
       "      <td>EAD</td>\n",
       "      <td>6.194499e+10</td>\n",
       "      <td>RWA</td>\n",
       "      <td>4.030000e+12</td>\n",
       "      <td>M</td>\n",
       "      <td>1.594204</td>\n",
       "    </tr>\n",
       "  </tbody>\n",
       "</table>\n",
       "</div>"
      ],
      "text/plain": [
       "    GCIF PROPERTY_x           EAD PROPERTY_y           RWA PROPERTY         M\n",
       "0  15560        EAD  9.970000e+11        RWA  5.830000e+12        M  1.127999\n",
       "1    824        EAD  2.120000e+11        RWA  6.610000e+12        M  2.361187\n",
       "2  20366        EAD  5.580000e+11        RWA  9.320000e+12        M  0.871177\n",
       "3  53515        EAD  9.710000e+11        RWA  4.570000e+12        M  0.373670\n",
       "4  96175        EAD  6.194499e+10        RWA  4.030000e+12        M  1.594204"
      ]
     },
     "execution_count": 102,
     "metadata": {},
     "output_type": "execute_result"
    }
   ],
   "source": [
    "df_SACCR_output = df_SACCR_output.rename(columns={'VALUE_x' : 'EAD', 'VALUE_y' : 'RWA', 'VALUE' : 'M'})\n",
    "df_SACCR_output.head()"
   ]
  },
  {
   "cell_type": "code",
   "execution_count": 109,
   "metadata": {},
   "outputs": [],
   "source": [
    "df_SACCR_output_reformed = df_SACCR_output.drop(['PROPERTY_x', 'PROPERTY_y', 'PROPERTY'],axis=1).head()"
   ]
  },
  {
   "cell_type": "code",
   "execution_count": 111,
   "metadata": {},
   "outputs": [],
   "source": [
    "df_SACCR_output_reformed.to_csv(\"SACCR_output_revised\")"
   ]
  },
  {
   "cell_type": "code",
   "execution_count": null,
   "metadata": {
    "collapsed": true
   },
   "outputs": [],
   "source": []
  }
 ],
 "metadata": {
  "kernelspec": {
   "display_name": "Python 3",
   "language": "python",
   "name": "python3"
  },
  "language_info": {
   "codemirror_mode": {
    "name": "ipython",
    "version": 3
   },
   "file_extension": ".py",
   "mimetype": "text/x-python",
   "name": "python",
   "nbconvert_exporter": "python",
   "pygments_lexer": "ipython3",
   "version": "3.6.2"
  }
 },
 "nbformat": 4,
 "nbformat_minor": 2
}
