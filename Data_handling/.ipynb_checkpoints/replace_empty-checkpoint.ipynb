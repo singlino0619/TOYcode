{
 "cells": [
  {
   "cell_type": "code",
   "execution_count": 45,
   "metadata": {
    "collapsed": true
   },
   "outputs": [],
   "source": [
    "import pandas as pd\n",
    "import numpy as np"
   ]
  },
  {
   "cell_type": "code",
   "execution_count": 58,
   "metadata": {
    "collapsed": true
   },
   "outputs": [],
   "source": [
    "df_netting = pd.read_csv('netting_set.csv')"
   ]
  },
  {
   "cell_type": "code",
   "execution_count": 52,
   "metadata": {
    "collapsed": true
   },
   "outputs": [],
   "source": [
    "def remove_blanck(df, array_name):\n",
    "    df[array_name] = df[array_name].apply(lambda x: x.strip())\n",
    "    return df\n",
    "\n",
    "def fill_blanck(df, array_name, fill_value):\n",
    "    df[array_name] = df[array_name].apply(lambda x: fill_value if not x else x)\n",
    "    return df"
   ]
  },
  {
   "cell_type": "code",
   "execution_count": 61,
   "metadata": {},
   "outputs": [
    {
     "data": {
      "text/html": [
       "<div>\n",
       "<style>\n",
       "    .dataframe thead tr:only-child th {\n",
       "        text-align: right;\n",
       "    }\n",
       "\n",
       "    .dataframe thead th {\n",
       "        text-align: left;\n",
       "    }\n",
       "\n",
       "    .dataframe tbody tr th {\n",
       "        vertical-align: top;\n",
       "    }\n",
       "</style>\n",
       "<table border=\"1\" class=\"dataframe\">\n",
       "  <thead>\n",
       "    <tr style=\"text-align: right;\">\n",
       "      <th></th>\n",
       "      <th>cp_num</th>\n",
       "      <th>tri_num</th>\n",
       "      <th>netting_set_A</th>\n",
       "      <th>netting_set_B</th>\n",
       "    </tr>\n",
       "  </thead>\n",
       "  <tbody>\n",
       "    <tr>\n",
       "      <th>0</th>\n",
       "      <td>1098</td>\n",
       "      <td>AA11010</td>\n",
       "      <td>1</td>\n",
       "      <td></td>\n",
       "    </tr>\n",
       "    <tr>\n",
       "      <th>1</th>\n",
       "      <td>1098</td>\n",
       "      <td>AA11020</td>\n",
       "      <td>1</td>\n",
       "      <td></td>\n",
       "    </tr>\n",
       "    <tr>\n",
       "      <th>2</th>\n",
       "      <td>9765</td>\n",
       "      <td>AA11030</td>\n",
       "      <td>isd_110A_1</td>\n",
       "      <td></td>\n",
       "    </tr>\n",
       "    <tr>\n",
       "      <th>3</th>\n",
       "      <td>9765</td>\n",
       "      <td>AA11040</td>\n",
       "      <td>isd_110A_1</td>\n",
       "      <td></td>\n",
       "    </tr>\n",
       "    <tr>\n",
       "      <th>4</th>\n",
       "      <td>9765</td>\n",
       "      <td>AA11050</td>\n",
       "      <td>isd_110A_1</td>\n",
       "      <td></td>\n",
       "    </tr>\n",
       "    <tr>\n",
       "      <th>5</th>\n",
       "      <td>7897</td>\n",
       "      <td>AA11060</td>\n",
       "      <td>1</td>\n",
       "      <td></td>\n",
       "    </tr>\n",
       "    <tr>\n",
       "      <th>6</th>\n",
       "      <td>1232</td>\n",
       "      <td>AA11070</td>\n",
       "      <td>1</td>\n",
       "      <td></td>\n",
       "    </tr>\n",
       "    <tr>\n",
       "      <th>7</th>\n",
       "      <td>7865</td>\n",
       "      <td>AA11080</td>\n",
       "      <td>isd_110B_1</td>\n",
       "      <td>isd_110B_1</td>\n",
       "    </tr>\n",
       "    <tr>\n",
       "      <th>8</th>\n",
       "      <td>7865</td>\n",
       "      <td>AA11090</td>\n",
       "      <td>isd_110B_1</td>\n",
       "      <td>isd_110B_1</td>\n",
       "    </tr>\n",
       "    <tr>\n",
       "      <th>9</th>\n",
       "      <td>3340</td>\n",
       "      <td>AA11100</td>\n",
       "      <td>1</td>\n",
       "      <td></td>\n",
       "    </tr>\n",
       "    <tr>\n",
       "      <th>10</th>\n",
       "      <td>3340</td>\n",
       "      <td>AA11111</td>\n",
       "      <td>1</td>\n",
       "      <td></td>\n",
       "    </tr>\n",
       "    <tr>\n",
       "      <th>11</th>\n",
       "      <td>3340</td>\n",
       "      <td>AA11112</td>\n",
       "      <td>1</td>\n",
       "      <td></td>\n",
       "    </tr>\n",
       "    <tr>\n",
       "      <th>12</th>\n",
       "      <td>3340</td>\n",
       "      <td>AA11113</td>\n",
       "      <td>1</td>\n",
       "      <td></td>\n",
       "    </tr>\n",
       "  </tbody>\n",
       "</table>\n",
       "</div>"
      ],
      "text/plain": [
       "    cp_num  tri_num netting_set_A      netting_set_B\n",
       "0     1098  AA11010             1                   \n",
       "1     1098  AA11020             1                   \n",
       "2     9765  AA11030    isd_110A_1                   \n",
       "3     9765  AA11040    isd_110A_1                   \n",
       "4     9765  AA11050    isd_110A_1                   \n",
       "5     7897  AA11060             1                   \n",
       "6     1232  AA11070             1                   \n",
       "7     7865  AA11080    isd_110B_1         isd_110B_1\n",
       "8     7865  AA11090    isd_110B_1         isd_110B_1\n",
       "9     3340  AA11100             1                   \n",
       "10    3340  AA11111             1                   \n",
       "11    3340  AA11112             1                   \n",
       "12    3340  AA11113             1                   "
      ]
     },
     "execution_count": 61,
     "metadata": {},
     "output_type": "execute_result"
    }
   ],
   "source": [
    "remove_blanck(df_netting, 'netting_set_A')\n",
    "fill_blanck(df_netting,'netting_set_A', 1)"
   ]
  },
  {
   "cell_type": "code",
   "execution_count": 62,
   "metadata": {},
   "outputs": [
    {
     "data": {
      "text/html": [
       "<div>\n",
       "<style>\n",
       "    .dataframe thead tr:only-child th {\n",
       "        text-align: right;\n",
       "    }\n",
       "\n",
       "    .dataframe thead th {\n",
       "        text-align: left;\n",
       "    }\n",
       "\n",
       "    .dataframe tbody tr th {\n",
       "        vertical-align: top;\n",
       "    }\n",
       "</style>\n",
       "<table border=\"1\" class=\"dataframe\">\n",
       "  <thead>\n",
       "    <tr style=\"text-align: right;\">\n",
       "      <th></th>\n",
       "      <th>cp_num</th>\n",
       "      <th>tri_num</th>\n",
       "      <th>netting_set_A</th>\n",
       "      <th>netting_set_B</th>\n",
       "    </tr>\n",
       "  </thead>\n",
       "  <tbody>\n",
       "    <tr>\n",
       "      <th>0</th>\n",
       "      <td>1098</td>\n",
       "      <td>AA11010</td>\n",
       "      <td>1</td>\n",
       "      <td>1</td>\n",
       "    </tr>\n",
       "    <tr>\n",
       "      <th>1</th>\n",
       "      <td>1098</td>\n",
       "      <td>AA11020</td>\n",
       "      <td>1</td>\n",
       "      <td>1</td>\n",
       "    </tr>\n",
       "    <tr>\n",
       "      <th>2</th>\n",
       "      <td>9765</td>\n",
       "      <td>AA11030</td>\n",
       "      <td>isd_110A_1</td>\n",
       "      <td>1</td>\n",
       "    </tr>\n",
       "    <tr>\n",
       "      <th>3</th>\n",
       "      <td>9765</td>\n",
       "      <td>AA11040</td>\n",
       "      <td>isd_110A_1</td>\n",
       "      <td>1</td>\n",
       "    </tr>\n",
       "    <tr>\n",
       "      <th>4</th>\n",
       "      <td>9765</td>\n",
       "      <td>AA11050</td>\n",
       "      <td>isd_110A_1</td>\n",
       "      <td>1</td>\n",
       "    </tr>\n",
       "    <tr>\n",
       "      <th>5</th>\n",
       "      <td>7897</td>\n",
       "      <td>AA11060</td>\n",
       "      <td>1</td>\n",
       "      <td>1</td>\n",
       "    </tr>\n",
       "    <tr>\n",
       "      <th>6</th>\n",
       "      <td>1232</td>\n",
       "      <td>AA11070</td>\n",
       "      <td>1</td>\n",
       "      <td>1</td>\n",
       "    </tr>\n",
       "    <tr>\n",
       "      <th>7</th>\n",
       "      <td>7865</td>\n",
       "      <td>AA11080</td>\n",
       "      <td>isd_110B_1</td>\n",
       "      <td>isd_110B_1</td>\n",
       "    </tr>\n",
       "    <tr>\n",
       "      <th>8</th>\n",
       "      <td>7865</td>\n",
       "      <td>AA11090</td>\n",
       "      <td>isd_110B_1</td>\n",
       "      <td>isd_110B_1</td>\n",
       "    </tr>\n",
       "    <tr>\n",
       "      <th>9</th>\n",
       "      <td>3340</td>\n",
       "      <td>AA11100</td>\n",
       "      <td>1</td>\n",
       "      <td>1</td>\n",
       "    </tr>\n",
       "    <tr>\n",
       "      <th>10</th>\n",
       "      <td>3340</td>\n",
       "      <td>AA11111</td>\n",
       "      <td>1</td>\n",
       "      <td>1</td>\n",
       "    </tr>\n",
       "    <tr>\n",
       "      <th>11</th>\n",
       "      <td>3340</td>\n",
       "      <td>AA11112</td>\n",
       "      <td>1</td>\n",
       "      <td>1</td>\n",
       "    </tr>\n",
       "    <tr>\n",
       "      <th>12</th>\n",
       "      <td>3340</td>\n",
       "      <td>AA11113</td>\n",
       "      <td>1</td>\n",
       "      <td>1</td>\n",
       "    </tr>\n",
       "  </tbody>\n",
       "</table>\n",
       "</div>"
      ],
      "text/plain": [
       "    cp_num  tri_num netting_set_A netting_set_B\n",
       "0     1098  AA11010             1             1\n",
       "1     1098  AA11020             1             1\n",
       "2     9765  AA11030    isd_110A_1             1\n",
       "3     9765  AA11040    isd_110A_1             1\n",
       "4     9765  AA11050    isd_110A_1             1\n",
       "5     7897  AA11060             1             1\n",
       "6     1232  AA11070             1             1\n",
       "7     7865  AA11080    isd_110B_1    isd_110B_1\n",
       "8     7865  AA11090    isd_110B_1    isd_110B_1\n",
       "9     3340  AA11100             1             1\n",
       "10    3340  AA11111             1             1\n",
       "11    3340  AA11112             1             1\n",
       "12    3340  AA11113             1             1"
      ]
     },
     "execution_count": 62,
     "metadata": {},
     "output_type": "execute_result"
    }
   ],
   "source": [
    "remove_blanck(df_netting, 'netting_set_B')\n",
    "fill_blanck(df_netting,'netting_set_B', 1)"
   ]
  },
  {
   "cell_type": "code",
   "execution_count": 51,
   "metadata": {},
   "outputs": [
    {
     "data": {
      "text/plain": [
       "0              1\n",
       "1              1\n",
       "2     isd_110A_1\n",
       "3     isd_110A_1\n",
       "4     isd_110A_1\n",
       "5              1\n",
       "6              1\n",
       "7     isd_110B_1\n",
       "8     isd_110B_1\n",
       "9              1\n",
       "10             1\n",
       "11             1\n",
       "12             1\n",
       "Name: netting_set_A, dtype: object"
      ]
     },
     "execution_count": 51,
     "metadata": {},
     "output_type": "execute_result"
    }
   ],
   "source": [
    "df_netting['netting_set_A'].apply(lambda x: 1 if not x else x)"
   ]
  },
  {
   "cell_type": "code",
   "execution_count": 49,
   "metadata": {},
   "outputs": [
    {
     "data": {
      "text/plain": [
       "'nan'"
      ]
     },
     "execution_count": 49,
     "metadata": {},
     "output_type": "execute_result"
    }
   ],
   "source": [
    "df_netting['netting_set_B'][0].replace('', str(np.NaN))"
   ]
  },
  {
   "cell_type": "code",
   "execution_count": null,
   "metadata": {
    "collapsed": true
   },
   "outputs": [],
   "source": []
  }
 ],
 "metadata": {
  "kernelspec": {
   "display_name": "Python 3",
   "language": "python",
   "name": "python3"
  },
  "language_info": {
   "codemirror_mode": {
    "name": "ipython",
    "version": 3
   },
   "file_extension": ".py",
   "mimetype": "text/x-python",
   "name": "python",
   "nbconvert_exporter": "python",
   "pygments_lexer": "ipython3",
   "version": "3.6.2"
  }
 },
 "nbformat": 4,
 "nbformat_minor": 2
}
