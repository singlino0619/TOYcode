{
 "cells": [
  {
   "cell_type": "code",
   "execution_count": 1,
   "metadata": {
    "collapsed": true
   },
   "outputs": [],
   "source": [
    "import pandas as pd\n",
    "import numpy as np\n",
    "import matplotlib.pyplot as plt\n",
    "import datetime\n",
    "import seaborn as sns\n",
    "%matplotlib inline"
   ]
  },
  {
   "cell_type": "code",
   "execution_count": 6,
   "metadata": {
    "collapsed": true
   },
   "outputs": [],
   "source": [
    "df_test = pd.read_csv('test.csv')"
   ]
  },
  {
   "cell_type": "code",
   "execution_count": 7,
   "metadata": {},
   "outputs": [
    {
     "data": {
      "text/html": [
       "<div>\n",
       "<style>\n",
       "    .dataframe thead tr:only-child th {\n",
       "        text-align: right;\n",
       "    }\n",
       "\n",
       "    .dataframe thead th {\n",
       "        text-align: left;\n",
       "    }\n",
       "\n",
       "    .dataframe tbody tr th {\n",
       "        vertical-align: top;\n",
       "    }\n",
       "</style>\n",
       "<table border=\"1\" class=\"dataframe\">\n",
       "  <thead>\n",
       "    <tr style=\"text-align: right;\">\n",
       "      <th></th>\n",
       "      <th>CP_code</th>\n",
       "      <th>MtM</th>\n",
       "      <th>PoE</th>\n",
       "      <th>CS_PoE</th>\n",
       "      <th>Maturity</th>\n",
       "      <th>flg</th>\n",
       "      <th>2018/7/21</th>\n",
       "      <th>2018/7/22</th>\n",
       "      <th>2018/7/23</th>\n",
       "      <th>2018/9/30</th>\n",
       "      <th>2018/12/30</th>\n",
       "      <th>2019/12/30</th>\n",
       "      <th>2020/12/30</th>\n",
       "      <th>2021/12/30</th>\n",
       "      <th>2022/12/30</th>\n",
       "      <th>2023/12/30</th>\n",
       "      <th>2025/12/30</th>\n",
       "      <th>2027/12/30</th>\n",
       "      <th>2029/12/30</th>\n",
       "      <th>2034/12/30</th>\n",
       "    </tr>\n",
       "  </thead>\n",
       "  <tbody>\n",
       "    <tr>\n",
       "      <th>0</th>\n",
       "      <td>10001</td>\n",
       "      <td>100987</td>\n",
       "      <td>2.000000e+01</td>\n",
       "      <td>1</td>\n",
       "      <td>2018/9/25</td>\n",
       "      <td>1</td>\n",
       "      <td>NaN</td>\n",
       "      <td>NaN</td>\n",
       "      <td>NaN</td>\n",
       "      <td>NaN</td>\n",
       "      <td>NaN</td>\n",
       "      <td>NaN</td>\n",
       "      <td>NaN</td>\n",
       "      <td>NaN</td>\n",
       "      <td>NaN</td>\n",
       "      <td>NaN</td>\n",
       "      <td>NaN</td>\n",
       "      <td>NaN</td>\n",
       "      <td>NaN</td>\n",
       "      <td>NaN</td>\n",
       "    </tr>\n",
       "    <tr>\n",
       "      <th>1</th>\n",
       "      <td>10002</td>\n",
       "      <td>1000974</td>\n",
       "      <td>7.709800e+04</td>\n",
       "      <td>30</td>\n",
       "      <td>2019/3/20</td>\n",
       "      <td>0</td>\n",
       "      <td>NaN</td>\n",
       "      <td>NaN</td>\n",
       "      <td>NaN</td>\n",
       "      <td>NaN</td>\n",
       "      <td>NaN</td>\n",
       "      <td>NaN</td>\n",
       "      <td>NaN</td>\n",
       "      <td>NaN</td>\n",
       "      <td>NaN</td>\n",
       "      <td>NaN</td>\n",
       "      <td>NaN</td>\n",
       "      <td>NaN</td>\n",
       "      <td>NaN</td>\n",
       "      <td>NaN</td>\n",
       "    </tr>\n",
       "    <tr>\n",
       "      <th>2</th>\n",
       "      <td>10003</td>\n",
       "      <td>-86897</td>\n",
       "      <td>8.986977e+09</td>\n",
       "      <td>900000</td>\n",
       "      <td>2020/5/20</td>\n",
       "      <td>2</td>\n",
       "      <td>NaN</td>\n",
       "      <td>NaN</td>\n",
       "      <td>NaN</td>\n",
       "      <td>NaN</td>\n",
       "      <td>NaN</td>\n",
       "      <td>NaN</td>\n",
       "      <td>NaN</td>\n",
       "      <td>NaN</td>\n",
       "      <td>NaN</td>\n",
       "      <td>NaN</td>\n",
       "      <td>NaN</td>\n",
       "      <td>NaN</td>\n",
       "      <td>NaN</td>\n",
       "      <td>NaN</td>\n",
       "    </tr>\n",
       "    <tr>\n",
       "      <th>3</th>\n",
       "      <td>10004</td>\n",
       "      <td>-4510973</td>\n",
       "      <td>1.098100e+11</td>\n",
       "      <td>39999</td>\n",
       "      <td>2030/3/30</td>\n",
       "      <td>0</td>\n",
       "      <td>NaN</td>\n",
       "      <td>NaN</td>\n",
       "      <td>NaN</td>\n",
       "      <td>NaN</td>\n",
       "      <td>NaN</td>\n",
       "      <td>NaN</td>\n",
       "      <td>NaN</td>\n",
       "      <td>NaN</td>\n",
       "      <td>NaN</td>\n",
       "      <td>NaN</td>\n",
       "      <td>NaN</td>\n",
       "      <td>NaN</td>\n",
       "      <td>NaN</td>\n",
       "      <td>NaN</td>\n",
       "    </tr>\n",
       "    <tr>\n",
       "      <th>4</th>\n",
       "      <td>10005</td>\n",
       "      <td>77688750</td>\n",
       "      <td>9.986066e+09</td>\n",
       "      <td>20</td>\n",
       "      <td>2026/7/4</td>\n",
       "      <td>1</td>\n",
       "      <td>NaN</td>\n",
       "      <td>NaN</td>\n",
       "      <td>NaN</td>\n",
       "      <td>NaN</td>\n",
       "      <td>NaN</td>\n",
       "      <td>NaN</td>\n",
       "      <td>NaN</td>\n",
       "      <td>NaN</td>\n",
       "      <td>NaN</td>\n",
       "      <td>NaN</td>\n",
       "      <td>NaN</td>\n",
       "      <td>NaN</td>\n",
       "      <td>NaN</td>\n",
       "      <td>NaN</td>\n",
       "    </tr>\n",
       "  </tbody>\n",
       "</table>\n",
       "</div>"
      ],
      "text/plain": [
       "   CP_code       MtM           PoE  CS_PoE   Maturity  flg  2018/7/21  \\\n",
       "0    10001    100987  2.000000e+01       1  2018/9/25    1        NaN   \n",
       "1    10002   1000974  7.709800e+04      30  2019/3/20    0        NaN   \n",
       "2    10003    -86897  8.986977e+09  900000  2020/5/20    2        NaN   \n",
       "3    10004  -4510973  1.098100e+11   39999  2030/3/30    0        NaN   \n",
       "4    10005  77688750  9.986066e+09      20   2026/7/4    1        NaN   \n",
       "\n",
       "   2018/7/22  2018/7/23  2018/9/30  2018/12/30  2019/12/30  2020/12/30  \\\n",
       "0        NaN        NaN        NaN         NaN         NaN         NaN   \n",
       "1        NaN        NaN        NaN         NaN         NaN         NaN   \n",
       "2        NaN        NaN        NaN         NaN         NaN         NaN   \n",
       "3        NaN        NaN        NaN         NaN         NaN         NaN   \n",
       "4        NaN        NaN        NaN         NaN         NaN         NaN   \n",
       "\n",
       "   2021/12/30  2022/12/30  2023/12/30  2025/12/30  2027/12/30  2029/12/30  \\\n",
       "0         NaN         NaN         NaN         NaN         NaN         NaN   \n",
       "1         NaN         NaN         NaN         NaN         NaN         NaN   \n",
       "2         NaN         NaN         NaN         NaN         NaN         NaN   \n",
       "3         NaN         NaN         NaN         NaN         NaN         NaN   \n",
       "4         NaN         NaN         NaN         NaN         NaN         NaN   \n",
       "\n",
       "   2034/12/30  \n",
       "0         NaN  \n",
       "1         NaN  \n",
       "2         NaN  \n",
       "3         NaN  \n",
       "4         NaN  "
      ]
     },
     "execution_count": 7,
     "metadata": {},
     "output_type": "execute_result"
    }
   ],
   "source": [
    "df_test"
   ]
  },
  {
   "cell_type": "code",
   "execution_count": 8,
   "metadata": {
    "collapsed": true
   },
   "outputs": [],
   "source": [
    "df_test['apply_PoE'] = df_test[['flg', 'PoE', 'CS_PoE']].apply(lambda x: x[2] if x[0] == 0 else x[1], axis=1)"
   ]
  },
  {
   "cell_type": "code",
   "execution_count": 9,
   "metadata": {},
   "outputs": [
    {
     "data": {
      "text/plain": [
       "0    2.000000e+01\n",
       "1    7.709800e+04\n",
       "2    8.986977e+09\n",
       "3    1.098100e+11\n",
       "4    9.986066e+09\n",
       "dtype: float64"
      ]
     },
     "execution_count": 9,
     "metadata": {},
     "output_type": "execute_result"
    }
   ],
   "source": [
    "df_test[['flg', 'PoE', 'CS_PoE']].apply(lambda x: x[1], axis=1)"
   ]
  },
  {
   "cell_type": "code",
   "execution_count": 10,
   "metadata": {},
   "outputs": [
    {
     "data": {
      "text/html": [
       "<div>\n",
       "<style>\n",
       "    .dataframe thead tr:only-child th {\n",
       "        text-align: right;\n",
       "    }\n",
       "\n",
       "    .dataframe thead th {\n",
       "        text-align: left;\n",
       "    }\n",
       "\n",
       "    .dataframe tbody tr th {\n",
       "        vertical-align: top;\n",
       "    }\n",
       "</style>\n",
       "<table border=\"1\" class=\"dataframe\">\n",
       "  <thead>\n",
       "    <tr style=\"text-align: right;\">\n",
       "      <th></th>\n",
       "      <th>0</th>\n",
       "    </tr>\n",
       "  </thead>\n",
       "  <tbody>\n",
       "    <tr>\n",
       "      <th>0</th>\n",
       "      <td>2018/7/21</td>\n",
       "    </tr>\n",
       "    <tr>\n",
       "      <th>1</th>\n",
       "      <td>2018/7/22</td>\n",
       "    </tr>\n",
       "    <tr>\n",
       "      <th>2</th>\n",
       "      <td>2018/7/23</td>\n",
       "    </tr>\n",
       "    <tr>\n",
       "      <th>3</th>\n",
       "      <td>2018/9/30</td>\n",
       "    </tr>\n",
       "    <tr>\n",
       "      <th>4</th>\n",
       "      <td>2018/12/30</td>\n",
       "    </tr>\n",
       "  </tbody>\n",
       "</table>\n",
       "</div>"
      ],
      "text/plain": [
       "            0\n",
       "0   2018/7/21\n",
       "1   2018/7/22\n",
       "2   2018/7/23\n",
       "3   2018/9/30\n",
       "4  2018/12/30"
      ]
     },
     "execution_count": 10,
     "metadata": {},
     "output_type": "execute_result"
    }
   ],
   "source": [
    "df_aggregation_grid = pd.DataFrame(df_test.columns[6:-1])\n",
    "df_aggregation_grid.head()"
   ]
  },
  {
   "cell_type": "code",
   "execution_count": 11,
   "metadata": {},
   "outputs": [
    {
     "ename": "NameError",
     "evalue": "(\"name 'str_to_dt_obj' is not defined\", 'occurred at index 0')",
     "output_type": "error",
     "traceback": [
      "\u001b[0;31m---------------------------------------------------------\u001b[0m",
      "\u001b[0;31mNameError\u001b[0m               Traceback (most recent call last)",
      "\u001b[0;32m<ipython-input-11-85e9641c0f3a>\u001b[0m in \u001b[0;36m<module>\u001b[0;34m()\u001b[0m\n\u001b[1;32m      1\u001b[0m \u001b[0;32mfor\u001b[0m \u001b[0mi\u001b[0m \u001b[0;32min\u001b[0m \u001b[0mrange\u001b[0m\u001b[0;34m(\u001b[0m\u001b[0mlen\u001b[0m\u001b[0;34m(\u001b[0m\u001b[0mdf_aggregation_grid\u001b[0m\u001b[0;34m)\u001b[0m\u001b[0;34m)\u001b[0m\u001b[0;34m:\u001b[0m\u001b[0;34m\u001b[0m\u001b[0m\n\u001b[0;32m----> 2\u001b[0;31m     \u001b[0mdf_test\u001b[0m\u001b[0;34m[\u001b[0m\u001b[0mdf_aggregation_grid\u001b[0m\u001b[0;34m[\u001b[0m\u001b[0;36m0\u001b[0m\u001b[0;34m]\u001b[0m\u001b[0;34m[\u001b[0m\u001b[0mi\u001b[0m\u001b[0;34m]\u001b[0m\u001b[0;34m]\u001b[0m \u001b[0;34m=\u001b[0m \u001b[0mdf_test\u001b[0m\u001b[0;34m[\u001b[0m\u001b[0;34m[\u001b[0m\u001b[0;34m'Maturity'\u001b[0m\u001b[0;34m,\u001b[0m \u001b[0;34m'apply_PoE'\u001b[0m\u001b[0;34m]\u001b[0m\u001b[0;34m]\u001b[0m\u001b[0;34m.\u001b[0m\u001b[0mapply\u001b[0m\u001b[0;34m(\u001b[0m\u001b[0;32mlambda\u001b[0m \u001b[0mx\u001b[0m\u001b[0;34m:\u001b[0m \u001b[0mx\u001b[0m\u001b[0;34m[\u001b[0m\u001b[0;36m1\u001b[0m\u001b[0;34m]\u001b[0m \u001b[0;32mif\u001b[0m \u001b[0;34m(\u001b[0m\u001b[0mstr_to_dt_obj\u001b[0m\u001b[0;34m(\u001b[0m\u001b[0mx\u001b[0m\u001b[0;34m[\u001b[0m\u001b[0;36m0\u001b[0m\u001b[0;34m]\u001b[0m\u001b[0;34m)\u001b[0m \u001b[0;34m>\u001b[0m \u001b[0mstr_to_dt_obj\u001b[0m\u001b[0;34m(\u001b[0m\u001b[0mdf_aggregation_grid\u001b[0m\u001b[0;34m[\u001b[0m\u001b[0;36m0\u001b[0m\u001b[0;34m]\u001b[0m\u001b[0;34m[\u001b[0m\u001b[0mi\u001b[0m\u001b[0;34m]\u001b[0m\u001b[0;34m)\u001b[0m\u001b[0;34m)\u001b[0m \u001b[0;32melse\u001b[0m \u001b[0;36m0\u001b[0m\u001b[0;34m,\u001b[0m \u001b[0maxis\u001b[0m\u001b[0;34m=\u001b[0m\u001b[0;36m1\u001b[0m\u001b[0;34m)\u001b[0m\u001b[0;34m\u001b[0m\u001b[0m\n\u001b[0m",
      "\u001b[0;32m~/anaconda3/lib/python3.6/site-packages/pandas/core/frame.py\u001b[0m in \u001b[0;36mapply\u001b[0;34m(self, func, axis, broadcast, raw, reduce, args, **kwds)\u001b[0m\n\u001b[1;32m   4260\u001b[0m                         \u001b[0mf\u001b[0m\u001b[0;34m,\u001b[0m \u001b[0maxis\u001b[0m\u001b[0;34m,\u001b[0m\u001b[0;34m\u001b[0m\u001b[0m\n\u001b[1;32m   4261\u001b[0m                         \u001b[0mreduce\u001b[0m\u001b[0;34m=\u001b[0m\u001b[0mreduce\u001b[0m\u001b[0;34m,\u001b[0m\u001b[0;34m\u001b[0m\u001b[0m\n\u001b[0;32m-> 4262\u001b[0;31m                         ignore_failures=ignore_failures)\n\u001b[0m\u001b[1;32m   4263\u001b[0m             \u001b[0;32melse\u001b[0m\u001b[0;34m:\u001b[0m\u001b[0;34m\u001b[0m\u001b[0m\n\u001b[1;32m   4264\u001b[0m                 \u001b[0;32mreturn\u001b[0m \u001b[0mself\u001b[0m\u001b[0;34m.\u001b[0m\u001b[0m_apply_broadcast\u001b[0m\u001b[0;34m(\u001b[0m\u001b[0mf\u001b[0m\u001b[0;34m,\u001b[0m \u001b[0maxis\u001b[0m\u001b[0;34m)\u001b[0m\u001b[0;34m\u001b[0m\u001b[0m\n",
      "\u001b[0;32m~/anaconda3/lib/python3.6/site-packages/pandas/core/frame.py\u001b[0m in \u001b[0;36m_apply_standard\u001b[0;34m(self, func, axis, ignore_failures, reduce)\u001b[0m\n\u001b[1;32m   4356\u001b[0m             \u001b[0;32mtry\u001b[0m\u001b[0;34m:\u001b[0m\u001b[0;34m\u001b[0m\u001b[0m\n\u001b[1;32m   4357\u001b[0m                 \u001b[0;32mfor\u001b[0m \u001b[0mi\u001b[0m\u001b[0;34m,\u001b[0m \u001b[0mv\u001b[0m \u001b[0;32min\u001b[0m \u001b[0menumerate\u001b[0m\u001b[0;34m(\u001b[0m\u001b[0mseries_gen\u001b[0m\u001b[0;34m)\u001b[0m\u001b[0;34m:\u001b[0m\u001b[0;34m\u001b[0m\u001b[0m\n\u001b[0;32m-> 4358\u001b[0;31m                     \u001b[0mresults\u001b[0m\u001b[0;34m[\u001b[0m\u001b[0mi\u001b[0m\u001b[0;34m]\u001b[0m \u001b[0;34m=\u001b[0m \u001b[0mfunc\u001b[0m\u001b[0;34m(\u001b[0m\u001b[0mv\u001b[0m\u001b[0;34m)\u001b[0m\u001b[0;34m\u001b[0m\u001b[0m\n\u001b[0m\u001b[1;32m   4359\u001b[0m                     \u001b[0mkeys\u001b[0m\u001b[0;34m.\u001b[0m\u001b[0mappend\u001b[0m\u001b[0;34m(\u001b[0m\u001b[0mv\u001b[0m\u001b[0;34m.\u001b[0m\u001b[0mname\u001b[0m\u001b[0;34m)\u001b[0m\u001b[0;34m\u001b[0m\u001b[0m\n\u001b[1;32m   4360\u001b[0m             \u001b[0;32mexcept\u001b[0m \u001b[0mException\u001b[0m \u001b[0;32mas\u001b[0m \u001b[0me\u001b[0m\u001b[0;34m:\u001b[0m\u001b[0;34m\u001b[0m\u001b[0m\n",
      "\u001b[0;32m<ipython-input-11-85e9641c0f3a>\u001b[0m in \u001b[0;36m<lambda>\u001b[0;34m(x)\u001b[0m\n\u001b[1;32m      1\u001b[0m \u001b[0;32mfor\u001b[0m \u001b[0mi\u001b[0m \u001b[0;32min\u001b[0m \u001b[0mrange\u001b[0m\u001b[0;34m(\u001b[0m\u001b[0mlen\u001b[0m\u001b[0;34m(\u001b[0m\u001b[0mdf_aggregation_grid\u001b[0m\u001b[0;34m)\u001b[0m\u001b[0;34m)\u001b[0m\u001b[0;34m:\u001b[0m\u001b[0;34m\u001b[0m\u001b[0m\n\u001b[0;32m----> 2\u001b[0;31m     \u001b[0mdf_test\u001b[0m\u001b[0;34m[\u001b[0m\u001b[0mdf_aggregation_grid\u001b[0m\u001b[0;34m[\u001b[0m\u001b[0;36m0\u001b[0m\u001b[0;34m]\u001b[0m\u001b[0;34m[\u001b[0m\u001b[0mi\u001b[0m\u001b[0;34m]\u001b[0m\u001b[0;34m]\u001b[0m \u001b[0;34m=\u001b[0m \u001b[0mdf_test\u001b[0m\u001b[0;34m[\u001b[0m\u001b[0;34m[\u001b[0m\u001b[0;34m'Maturity'\u001b[0m\u001b[0;34m,\u001b[0m \u001b[0;34m'apply_PoE'\u001b[0m\u001b[0;34m]\u001b[0m\u001b[0;34m]\u001b[0m\u001b[0;34m.\u001b[0m\u001b[0mapply\u001b[0m\u001b[0;34m(\u001b[0m\u001b[0;32mlambda\u001b[0m \u001b[0mx\u001b[0m\u001b[0;34m:\u001b[0m \u001b[0mx\u001b[0m\u001b[0;34m[\u001b[0m\u001b[0;36m1\u001b[0m\u001b[0;34m]\u001b[0m \u001b[0;32mif\u001b[0m \u001b[0;34m(\u001b[0m\u001b[0mstr_to_dt_obj\u001b[0m\u001b[0;34m(\u001b[0m\u001b[0mx\u001b[0m\u001b[0;34m[\u001b[0m\u001b[0;36m0\u001b[0m\u001b[0;34m]\u001b[0m\u001b[0;34m)\u001b[0m \u001b[0;34m>\u001b[0m \u001b[0mstr_to_dt_obj\u001b[0m\u001b[0;34m(\u001b[0m\u001b[0mdf_aggregation_grid\u001b[0m\u001b[0;34m[\u001b[0m\u001b[0;36m0\u001b[0m\u001b[0;34m]\u001b[0m\u001b[0;34m[\u001b[0m\u001b[0mi\u001b[0m\u001b[0;34m]\u001b[0m\u001b[0;34m)\u001b[0m\u001b[0;34m)\u001b[0m \u001b[0;32melse\u001b[0m \u001b[0;36m0\u001b[0m\u001b[0;34m,\u001b[0m \u001b[0maxis\u001b[0m\u001b[0;34m=\u001b[0m\u001b[0;36m1\u001b[0m\u001b[0;34m)\u001b[0m\u001b[0;34m\u001b[0m\u001b[0m\n\u001b[0m",
      "\u001b[0;31mNameError\u001b[0m: (\"name 'str_to_dt_obj' is not defined\", 'occurred at index 0')"
     ]
    }
   ],
   "source": [
    "for i in range(len(df_aggregation_grid)):\n",
    "    df_test[df_aggregation_grid[0][i]] = df_test[['Maturity', 'apply_PoE']].apply(lambda x: x[1] if (str_to_dt_obj(x[0]) > str_to_dt_obj(df_aggregation_grid[0][i])) else 0, axis=1)"
   ]
  },
  {
   "cell_type": "code",
   "execution_count": 12,
   "metadata": {},
   "outputs": [
    {
     "data": {
      "text/html": [
       "<div>\n",
       "<style>\n",
       "    .dataframe thead tr:only-child th {\n",
       "        text-align: right;\n",
       "    }\n",
       "\n",
       "    .dataframe thead th {\n",
       "        text-align: left;\n",
       "    }\n",
       "\n",
       "    .dataframe tbody tr th {\n",
       "        vertical-align: top;\n",
       "    }\n",
       "</style>\n",
       "<table border=\"1\" class=\"dataframe\">\n",
       "  <thead>\n",
       "    <tr style=\"text-align: right;\">\n",
       "      <th></th>\n",
       "      <th>CP_code</th>\n",
       "      <th>MtM</th>\n",
       "      <th>PoE</th>\n",
       "      <th>CS_PoE</th>\n",
       "      <th>Maturity</th>\n",
       "      <th>flg</th>\n",
       "      <th>2018/7/21</th>\n",
       "      <th>2018/7/22</th>\n",
       "      <th>2018/7/23</th>\n",
       "      <th>2018/9/30</th>\n",
       "      <th>...</th>\n",
       "      <th>2019/12/30</th>\n",
       "      <th>2020/12/30</th>\n",
       "      <th>2021/12/30</th>\n",
       "      <th>2022/12/30</th>\n",
       "      <th>2023/12/30</th>\n",
       "      <th>2025/12/30</th>\n",
       "      <th>2027/12/30</th>\n",
       "      <th>2029/12/30</th>\n",
       "      <th>2034/12/30</th>\n",
       "      <th>apply_PoE</th>\n",
       "    </tr>\n",
       "  </thead>\n",
       "  <tbody>\n",
       "    <tr>\n",
       "      <th>0</th>\n",
       "      <td>10001</td>\n",
       "      <td>100987</td>\n",
       "      <td>2.000000e+01</td>\n",
       "      <td>1</td>\n",
       "      <td>2018/9/25</td>\n",
       "      <td>1</td>\n",
       "      <td>NaN</td>\n",
       "      <td>NaN</td>\n",
       "      <td>NaN</td>\n",
       "      <td>NaN</td>\n",
       "      <td>...</td>\n",
       "      <td>NaN</td>\n",
       "      <td>NaN</td>\n",
       "      <td>NaN</td>\n",
       "      <td>NaN</td>\n",
       "      <td>NaN</td>\n",
       "      <td>NaN</td>\n",
       "      <td>NaN</td>\n",
       "      <td>NaN</td>\n",
       "      <td>NaN</td>\n",
       "      <td>2.000000e+01</td>\n",
       "    </tr>\n",
       "    <tr>\n",
       "      <th>1</th>\n",
       "      <td>10002</td>\n",
       "      <td>1000974</td>\n",
       "      <td>7.709800e+04</td>\n",
       "      <td>30</td>\n",
       "      <td>2019/3/20</td>\n",
       "      <td>0</td>\n",
       "      <td>NaN</td>\n",
       "      <td>NaN</td>\n",
       "      <td>NaN</td>\n",
       "      <td>NaN</td>\n",
       "      <td>...</td>\n",
       "      <td>NaN</td>\n",
       "      <td>NaN</td>\n",
       "      <td>NaN</td>\n",
       "      <td>NaN</td>\n",
       "      <td>NaN</td>\n",
       "      <td>NaN</td>\n",
       "      <td>NaN</td>\n",
       "      <td>NaN</td>\n",
       "      <td>NaN</td>\n",
       "      <td>3.000000e+01</td>\n",
       "    </tr>\n",
       "    <tr>\n",
       "      <th>2</th>\n",
       "      <td>10003</td>\n",
       "      <td>-86897</td>\n",
       "      <td>8.986977e+09</td>\n",
       "      <td>900000</td>\n",
       "      <td>2020/5/20</td>\n",
       "      <td>2</td>\n",
       "      <td>NaN</td>\n",
       "      <td>NaN</td>\n",
       "      <td>NaN</td>\n",
       "      <td>NaN</td>\n",
       "      <td>...</td>\n",
       "      <td>NaN</td>\n",
       "      <td>NaN</td>\n",
       "      <td>NaN</td>\n",
       "      <td>NaN</td>\n",
       "      <td>NaN</td>\n",
       "      <td>NaN</td>\n",
       "      <td>NaN</td>\n",
       "      <td>NaN</td>\n",
       "      <td>NaN</td>\n",
       "      <td>8.986977e+09</td>\n",
       "    </tr>\n",
       "    <tr>\n",
       "      <th>3</th>\n",
       "      <td>10004</td>\n",
       "      <td>-4510973</td>\n",
       "      <td>1.098100e+11</td>\n",
       "      <td>39999</td>\n",
       "      <td>2030/3/30</td>\n",
       "      <td>0</td>\n",
       "      <td>NaN</td>\n",
       "      <td>NaN</td>\n",
       "      <td>NaN</td>\n",
       "      <td>NaN</td>\n",
       "      <td>...</td>\n",
       "      <td>NaN</td>\n",
       "      <td>NaN</td>\n",
       "      <td>NaN</td>\n",
       "      <td>NaN</td>\n",
       "      <td>NaN</td>\n",
       "      <td>NaN</td>\n",
       "      <td>NaN</td>\n",
       "      <td>NaN</td>\n",
       "      <td>NaN</td>\n",
       "      <td>3.999900e+04</td>\n",
       "    </tr>\n",
       "    <tr>\n",
       "      <th>4</th>\n",
       "      <td>10005</td>\n",
       "      <td>77688750</td>\n",
       "      <td>9.986066e+09</td>\n",
       "      <td>20</td>\n",
       "      <td>2026/7/4</td>\n",
       "      <td>1</td>\n",
       "      <td>NaN</td>\n",
       "      <td>NaN</td>\n",
       "      <td>NaN</td>\n",
       "      <td>NaN</td>\n",
       "      <td>...</td>\n",
       "      <td>NaN</td>\n",
       "      <td>NaN</td>\n",
       "      <td>NaN</td>\n",
       "      <td>NaN</td>\n",
       "      <td>NaN</td>\n",
       "      <td>NaN</td>\n",
       "      <td>NaN</td>\n",
       "      <td>NaN</td>\n",
       "      <td>NaN</td>\n",
       "      <td>9.986066e+09</td>\n",
       "    </tr>\n",
       "  </tbody>\n",
       "</table>\n",
       "<p>5 rows × 21 columns</p>\n",
       "</div>"
      ],
      "text/plain": [
       "   CP_code       MtM           PoE  CS_PoE   Maturity  flg  2018/7/21  \\\n",
       "0    10001    100987  2.000000e+01       1  2018/9/25    1        NaN   \n",
       "1    10002   1000974  7.709800e+04      30  2019/3/20    0        NaN   \n",
       "2    10003    -86897  8.986977e+09  900000  2020/5/20    2        NaN   \n",
       "3    10004  -4510973  1.098100e+11   39999  2030/3/30    0        NaN   \n",
       "4    10005  77688750  9.986066e+09      20   2026/7/4    1        NaN   \n",
       "\n",
       "   2018/7/22  2018/7/23  2018/9/30      ...       2019/12/30  2020/12/30  \\\n",
       "0        NaN        NaN        NaN      ...              NaN         NaN   \n",
       "1        NaN        NaN        NaN      ...              NaN         NaN   \n",
       "2        NaN        NaN        NaN      ...              NaN         NaN   \n",
       "3        NaN        NaN        NaN      ...              NaN         NaN   \n",
       "4        NaN        NaN        NaN      ...              NaN         NaN   \n",
       "\n",
       "   2021/12/30  2022/12/30  2023/12/30  2025/12/30  2027/12/30  2029/12/30  \\\n",
       "0         NaN         NaN         NaN         NaN         NaN         NaN   \n",
       "1         NaN         NaN         NaN         NaN         NaN         NaN   \n",
       "2         NaN         NaN         NaN         NaN         NaN         NaN   \n",
       "3         NaN         NaN         NaN         NaN         NaN         NaN   \n",
       "4         NaN         NaN         NaN         NaN         NaN         NaN   \n",
       "\n",
       "   2034/12/30     apply_PoE  \n",
       "0         NaN  2.000000e+01  \n",
       "1         NaN  3.000000e+01  \n",
       "2         NaN  8.986977e+09  \n",
       "3         NaN  3.999900e+04  \n",
       "4         NaN  9.986066e+09  \n",
       "\n",
       "[5 rows x 21 columns]"
      ]
     },
     "execution_count": 12,
     "metadata": {},
     "output_type": "execute_result"
    }
   ],
   "source": [
    "df_test"
   ]
  },
  {
   "cell_type": "code",
   "execution_count": 13,
   "metadata": {},
   "outputs": [
    {
     "data": {
      "text/plain": [
       "15"
      ]
     },
     "execution_count": 13,
     "metadata": {},
     "output_type": "execute_result"
    }
   ],
   "source": [
    "aggregation_grid = df_test.columns[6:]\n",
    "len(aggregation_grid)"
   ]
  },
  {
   "cell_type": "code",
   "execution_count": 14,
   "metadata": {
    "collapsed": true
   },
   "outputs": [],
   "source": [
    "for i in range(6, 6+len(aggregation_grid)):\n",
    "    df_test[df_test.columns[i]] = 0"
   ]
  },
  {
   "cell_type": "code",
   "execution_count": 15,
   "metadata": {},
   "outputs": [
    {
     "data": {
      "text/plain": [
       "0   2018-09-25\n",
       "1   2019-03-20\n",
       "2   2020-05-20\n",
       "3   2030-03-30\n",
       "4   2026-07-04\n",
       "Name: Maturity, dtype: datetime64[ns]"
      ]
     },
     "execution_count": 15,
     "metadata": {},
     "output_type": "execute_result"
    }
   ],
   "source": [
    "pd.to_datetime(df_test['Maturity'])"
   ]
  },
  {
   "cell_type": "code",
   "execution_count": 16,
   "metadata": {
    "collapsed": true
   },
   "outputs": [],
   "source": [
    "def str_to_dt_obj(str):\n",
    "    return datetime.datetime.strptime(str, '%Y/%m/%d')"
   ]
  },
  {
   "cell_type": "markdown",
   "metadata": {
    "collapsed": true
   },
   "source": [
    "## 2019/3/26 EAD"
   ]
  },
  {
   "cell_type": "code",
   "execution_count": 17,
   "metadata": {},
   "outputs": [
    {
     "data": {
      "text/html": [
       "<div>\n",
       "<style>\n",
       "    .dataframe thead tr:only-child th {\n",
       "        text-align: right;\n",
       "    }\n",
       "\n",
       "    .dataframe thead th {\n",
       "        text-align: left;\n",
       "    }\n",
       "\n",
       "    .dataframe tbody tr th {\n",
       "        vertical-align: top;\n",
       "    }\n",
       "</style>\n",
       "<table border=\"1\" class=\"dataframe\">\n",
       "  <thead>\n",
       "    <tr style=\"text-align: right;\">\n",
       "      <th></th>\n",
       "      <th>GCIF</th>\n",
       "      <th>EAD_SACCR</th>\n",
       "      <th>CEM_EAD</th>\n",
       "      <th>RWA_SACCR</th>\n",
       "      <th>CEM_RWA</th>\n",
       "      <th>kbn</th>\n",
       "      <th>gyousyu</th>\n",
       "    </tr>\n",
       "  </thead>\n",
       "  <tbody>\n",
       "    <tr>\n",
       "      <th>0</th>\n",
       "      <td>873</td>\n",
       "      <td>5.537346e+07</td>\n",
       "      <td>2.061419e+06</td>\n",
       "      <td>5.505531e+07</td>\n",
       "      <td>1.305577e+06</td>\n",
       "      <td>customer</td>\n",
       "      <td>telecom</td>\n",
       "    </tr>\n",
       "    <tr>\n",
       "      <th>1</th>\n",
       "      <td>786</td>\n",
       "      <td>8.083901e+06</td>\n",
       "      <td>1.614773e+05</td>\n",
       "      <td>2.311649e+06</td>\n",
       "      <td>9.002309e+04</td>\n",
       "      <td>bank</td>\n",
       "      <td>finance</td>\n",
       "    </tr>\n",
       "    <tr>\n",
       "      <th>2</th>\n",
       "      <td>986</td>\n",
       "      <td>1.916497e+07</td>\n",
       "      <td>1.884677e+06</td>\n",
       "      <td>1.107456e+07</td>\n",
       "      <td>1.106932e+06</td>\n",
       "      <td>bank</td>\n",
       "      <td>finance</td>\n",
       "    </tr>\n",
       "    <tr>\n",
       "      <th>3</th>\n",
       "      <td>123</td>\n",
       "      <td>6.351879e+07</td>\n",
       "      <td>7.246506e+06</td>\n",
       "      <td>6.067554e+07</td>\n",
       "      <td>6.063667e+06</td>\n",
       "      <td>customer</td>\n",
       "      <td>industry</td>\n",
       "    </tr>\n",
       "    <tr>\n",
       "      <th>4</th>\n",
       "      <td>467</td>\n",
       "      <td>7.691376e+07</td>\n",
       "      <td>5.834574e+06</td>\n",
       "      <td>8.431096e+06</td>\n",
       "      <td>4.594163e+06</td>\n",
       "      <td>customer</td>\n",
       "      <td>industry</td>\n",
       "    </tr>\n",
       "    <tr>\n",
       "      <th>5</th>\n",
       "      <td>486</td>\n",
       "      <td>9.784517e+07</td>\n",
       "      <td>6.429847e+06</td>\n",
       "      <td>8.402405e+07</td>\n",
       "      <td>2.521156e+06</td>\n",
       "      <td>bank</td>\n",
       "      <td>finance</td>\n",
       "    </tr>\n",
       "    <tr>\n",
       "      <th>6</th>\n",
       "      <td>187</td>\n",
       "      <td>3.959633e+07</td>\n",
       "      <td>2.057229e+06</td>\n",
       "      <td>1.310034e+07</td>\n",
       "      <td>1.167193e+06</td>\n",
       "      <td>customer</td>\n",
       "      <td>consumer service</td>\n",
       "    </tr>\n",
       "    <tr>\n",
       "      <th>7</th>\n",
       "      <td>764</td>\n",
       "      <td>7.830127e+06</td>\n",
       "      <td>2.788185e+06</td>\n",
       "      <td>2.166783e+06</td>\n",
       "      <td>9.915404e+05</td>\n",
       "      <td>customer</td>\n",
       "      <td>consumer service</td>\n",
       "    </tr>\n",
       "    <tr>\n",
       "      <th>8</th>\n",
       "      <td>687</td>\n",
       "      <td>1.758502e+07</td>\n",
       "      <td>5.778570e+06</td>\n",
       "      <td>7.531977e+06</td>\n",
       "      <td>3.815376e+06</td>\n",
       "      <td>ccp</td>\n",
       "      <td>finance</td>\n",
       "    </tr>\n",
       "    <tr>\n",
       "      <th>9</th>\n",
       "      <td>918</td>\n",
       "      <td>1.559255e+07</td>\n",
       "      <td>4.195526e+06</td>\n",
       "      <td>8.824461e+06</td>\n",
       "      <td>2.175445e+06</td>\n",
       "      <td>ccp</td>\n",
       "      <td>finance</td>\n",
       "    </tr>\n",
       "    <tr>\n",
       "      <th>10</th>\n",
       "      <td>864</td>\n",
       "      <td>1.683060e+07</td>\n",
       "      <td>2.906436e+06</td>\n",
       "      <td>1.963227e+06</td>\n",
       "      <td>2.078169e+06</td>\n",
       "      <td>customer</td>\n",
       "      <td>consumer service</td>\n",
       "    </tr>\n",
       "    <tr>\n",
       "      <th>11</th>\n",
       "      <td>128</td>\n",
       "      <td>4.835322e+07</td>\n",
       "      <td>8.699228e+06</td>\n",
       "      <td>4.366466e+07</td>\n",
       "      <td>8.501567e+06</td>\n",
       "      <td>ccp</td>\n",
       "      <td>finance</td>\n",
       "    </tr>\n",
       "    <tr>\n",
       "      <th>12</th>\n",
       "      <td>389</td>\n",
       "      <td>5.415766e+07</td>\n",
       "      <td>3.399775e+06</td>\n",
       "      <td>4.067523e+07</td>\n",
       "      <td>1.430213e+06</td>\n",
       "      <td>bank</td>\n",
       "      <td>finance</td>\n",
       "    </tr>\n",
       "  </tbody>\n",
       "</table>\n",
       "</div>"
      ],
      "text/plain": [
       "    GCIF     EAD_SACCR       CEM_EAD     RWA_SACCR       CEM_RWA       kbn  \\\n",
       "0    873  5.537346e+07  2.061419e+06  5.505531e+07  1.305577e+06  customer   \n",
       "1    786  8.083901e+06  1.614773e+05  2.311649e+06  9.002309e+04      bank   \n",
       "2    986  1.916497e+07  1.884677e+06  1.107456e+07  1.106932e+06      bank   \n",
       "3    123  6.351879e+07  7.246506e+06  6.067554e+07  6.063667e+06  customer   \n",
       "4    467  7.691376e+07  5.834574e+06  8.431096e+06  4.594163e+06  customer   \n",
       "5    486  9.784517e+07  6.429847e+06  8.402405e+07  2.521156e+06      bank   \n",
       "6    187  3.959633e+07  2.057229e+06  1.310034e+07  1.167193e+06  customer   \n",
       "7    764  7.830127e+06  2.788185e+06  2.166783e+06  9.915404e+05  customer   \n",
       "8    687  1.758502e+07  5.778570e+06  7.531977e+06  3.815376e+06       ccp   \n",
       "9    918  1.559255e+07  4.195526e+06  8.824461e+06  2.175445e+06       ccp   \n",
       "10   864  1.683060e+07  2.906436e+06  1.963227e+06  2.078169e+06  customer   \n",
       "11   128  4.835322e+07  8.699228e+06  4.366466e+07  8.501567e+06       ccp   \n",
       "12   389  5.415766e+07  3.399775e+06  4.067523e+07  1.430213e+06      bank   \n",
       "\n",
       "             gyousyu  \n",
       "0            telecom  \n",
       "1            finance  \n",
       "2            finance  \n",
       "3           industry  \n",
       "4           industry  \n",
       "5            finance  \n",
       "6   consumer service  \n",
       "7   consumer service  \n",
       "8            finance  \n",
       "9            finance  \n",
       "10  consumer service  \n",
       "11           finance  \n",
       "12           finance  "
      ]
     },
     "execution_count": 17,
     "metadata": {},
     "output_type": "execute_result"
    }
   ],
   "source": [
    "df_ead = pd.read_csv('EAD.csv')\n",
    "df_ead"
   ]
  },
  {
   "cell_type": "code",
   "execution_count": 18,
   "metadata": {
    "collapsed": true
   },
   "outputs": [],
   "source": [
    "def sort_values(g, str_sort):\n",
    "    return g.sort_values(by=str_sort, ascending=False)"
   ]
  },
  {
   "cell_type": "code",
   "execution_count": 19,
   "metadata": {},
   "outputs": [
    {
     "data": {
      "text/html": [
       "<div>\n",
       "<style>\n",
       "    .dataframe thead tr:only-child th {\n",
       "        text-align: right;\n",
       "    }\n",
       "\n",
       "    .dataframe thead th {\n",
       "        text-align: left;\n",
       "    }\n",
       "\n",
       "    .dataframe tbody tr th {\n",
       "        vertical-align: top;\n",
       "    }\n",
       "</style>\n",
       "<table border=\"1\" class=\"dataframe\">\n",
       "  <thead>\n",
       "    <tr style=\"text-align: right;\">\n",
       "      <th></th>\n",
       "      <th></th>\n",
       "      <th>GCIF</th>\n",
       "      <th>EAD_SACCR</th>\n",
       "      <th>CEM_EAD</th>\n",
       "      <th>RWA_SACCR</th>\n",
       "      <th>CEM_RWA</th>\n",
       "      <th>kbn</th>\n",
       "      <th>gyousyu</th>\n",
       "    </tr>\n",
       "    <tr>\n",
       "      <th>kbn</th>\n",
       "      <th></th>\n",
       "      <th></th>\n",
       "      <th></th>\n",
       "      <th></th>\n",
       "      <th></th>\n",
       "      <th></th>\n",
       "      <th></th>\n",
       "      <th></th>\n",
       "    </tr>\n",
       "  </thead>\n",
       "  <tbody>\n",
       "    <tr>\n",
       "      <th rowspan=\"4\" valign=\"top\">bank</th>\n",
       "      <th>5</th>\n",
       "      <td>486</td>\n",
       "      <td>9.784517e+07</td>\n",
       "      <td>6.429847e+06</td>\n",
       "      <td>8.402405e+07</td>\n",
       "      <td>2.521156e+06</td>\n",
       "      <td>bank</td>\n",
       "      <td>finance</td>\n",
       "    </tr>\n",
       "    <tr>\n",
       "      <th>12</th>\n",
       "      <td>389</td>\n",
       "      <td>5.415766e+07</td>\n",
       "      <td>3.399775e+06</td>\n",
       "      <td>4.067523e+07</td>\n",
       "      <td>1.430213e+06</td>\n",
       "      <td>bank</td>\n",
       "      <td>finance</td>\n",
       "    </tr>\n",
       "    <tr>\n",
       "      <th>2</th>\n",
       "      <td>986</td>\n",
       "      <td>1.916497e+07</td>\n",
       "      <td>1.884677e+06</td>\n",
       "      <td>1.107456e+07</td>\n",
       "      <td>1.106932e+06</td>\n",
       "      <td>bank</td>\n",
       "      <td>finance</td>\n",
       "    </tr>\n",
       "    <tr>\n",
       "      <th>1</th>\n",
       "      <td>786</td>\n",
       "      <td>8.083901e+06</td>\n",
       "      <td>1.614773e+05</td>\n",
       "      <td>2.311649e+06</td>\n",
       "      <td>9.002309e+04</td>\n",
       "      <td>bank</td>\n",
       "      <td>finance</td>\n",
       "    </tr>\n",
       "    <tr>\n",
       "      <th rowspan=\"3\" valign=\"top\">ccp</th>\n",
       "      <th>11</th>\n",
       "      <td>128</td>\n",
       "      <td>4.835322e+07</td>\n",
       "      <td>8.699228e+06</td>\n",
       "      <td>4.366466e+07</td>\n",
       "      <td>8.501567e+06</td>\n",
       "      <td>ccp</td>\n",
       "      <td>finance</td>\n",
       "    </tr>\n",
       "    <tr>\n",
       "      <th>8</th>\n",
       "      <td>687</td>\n",
       "      <td>1.758502e+07</td>\n",
       "      <td>5.778570e+06</td>\n",
       "      <td>7.531977e+06</td>\n",
       "      <td>3.815376e+06</td>\n",
       "      <td>ccp</td>\n",
       "      <td>finance</td>\n",
       "    </tr>\n",
       "    <tr>\n",
       "      <th>9</th>\n",
       "      <td>918</td>\n",
       "      <td>1.559255e+07</td>\n",
       "      <td>4.195526e+06</td>\n",
       "      <td>8.824461e+06</td>\n",
       "      <td>2.175445e+06</td>\n",
       "      <td>ccp</td>\n",
       "      <td>finance</td>\n",
       "    </tr>\n",
       "    <tr>\n",
       "      <th rowspan=\"6\" valign=\"top\">customer</th>\n",
       "      <th>4</th>\n",
       "      <td>467</td>\n",
       "      <td>7.691376e+07</td>\n",
       "      <td>5.834574e+06</td>\n",
       "      <td>8.431096e+06</td>\n",
       "      <td>4.594163e+06</td>\n",
       "      <td>customer</td>\n",
       "      <td>industry</td>\n",
       "    </tr>\n",
       "    <tr>\n",
       "      <th>3</th>\n",
       "      <td>123</td>\n",
       "      <td>6.351879e+07</td>\n",
       "      <td>7.246506e+06</td>\n",
       "      <td>6.067554e+07</td>\n",
       "      <td>6.063667e+06</td>\n",
       "      <td>customer</td>\n",
       "      <td>industry</td>\n",
       "    </tr>\n",
       "    <tr>\n",
       "      <th>0</th>\n",
       "      <td>873</td>\n",
       "      <td>5.537346e+07</td>\n",
       "      <td>2.061419e+06</td>\n",
       "      <td>5.505531e+07</td>\n",
       "      <td>1.305577e+06</td>\n",
       "      <td>customer</td>\n",
       "      <td>telecom</td>\n",
       "    </tr>\n",
       "    <tr>\n",
       "      <th>6</th>\n",
       "      <td>187</td>\n",
       "      <td>3.959633e+07</td>\n",
       "      <td>2.057229e+06</td>\n",
       "      <td>1.310034e+07</td>\n",
       "      <td>1.167193e+06</td>\n",
       "      <td>customer</td>\n",
       "      <td>consumer service</td>\n",
       "    </tr>\n",
       "    <tr>\n",
       "      <th>10</th>\n",
       "      <td>864</td>\n",
       "      <td>1.683060e+07</td>\n",
       "      <td>2.906436e+06</td>\n",
       "      <td>1.963227e+06</td>\n",
       "      <td>2.078169e+06</td>\n",
       "      <td>customer</td>\n",
       "      <td>consumer service</td>\n",
       "    </tr>\n",
       "    <tr>\n",
       "      <th>7</th>\n",
       "      <td>764</td>\n",
       "      <td>7.830127e+06</td>\n",
       "      <td>2.788185e+06</td>\n",
       "      <td>2.166783e+06</td>\n",
       "      <td>9.915404e+05</td>\n",
       "      <td>customer</td>\n",
       "      <td>consumer service</td>\n",
       "    </tr>\n",
       "  </tbody>\n",
       "</table>\n",
       "</div>"
      ],
      "text/plain": [
       "             GCIF     EAD_SACCR       CEM_EAD     RWA_SACCR       CEM_RWA  \\\n",
       "kbn                                                                         \n",
       "bank     5    486  9.784517e+07  6.429847e+06  8.402405e+07  2.521156e+06   \n",
       "         12   389  5.415766e+07  3.399775e+06  4.067523e+07  1.430213e+06   \n",
       "         2    986  1.916497e+07  1.884677e+06  1.107456e+07  1.106932e+06   \n",
       "         1    786  8.083901e+06  1.614773e+05  2.311649e+06  9.002309e+04   \n",
       "ccp      11   128  4.835322e+07  8.699228e+06  4.366466e+07  8.501567e+06   \n",
       "         8    687  1.758502e+07  5.778570e+06  7.531977e+06  3.815376e+06   \n",
       "         9    918  1.559255e+07  4.195526e+06  8.824461e+06  2.175445e+06   \n",
       "customer 4    467  7.691376e+07  5.834574e+06  8.431096e+06  4.594163e+06   \n",
       "         3    123  6.351879e+07  7.246506e+06  6.067554e+07  6.063667e+06   \n",
       "         0    873  5.537346e+07  2.061419e+06  5.505531e+07  1.305577e+06   \n",
       "         6    187  3.959633e+07  2.057229e+06  1.310034e+07  1.167193e+06   \n",
       "         10   864  1.683060e+07  2.906436e+06  1.963227e+06  2.078169e+06   \n",
       "         7    764  7.830127e+06  2.788185e+06  2.166783e+06  9.915404e+05   \n",
       "\n",
       "                  kbn           gyousyu  \n",
       "kbn                                      \n",
       "bank     5       bank           finance  \n",
       "         12      bank           finance  \n",
       "         2       bank           finance  \n",
       "         1       bank           finance  \n",
       "ccp      11       ccp           finance  \n",
       "         8        ccp           finance  \n",
       "         9        ccp           finance  \n",
       "customer 4   customer          industry  \n",
       "         3   customer          industry  \n",
       "         0   customer           telecom  \n",
       "         6   customer  consumer service  \n",
       "         10  customer  consumer service  \n",
       "         7   customer  consumer service  "
      ]
     },
     "execution_count": 19,
     "metadata": {},
     "output_type": "execute_result"
    }
   ],
   "source": [
    "df_ead.groupby('kbn').apply(sort_values, 'EAD_SACCR')"
   ]
  },
  {
   "cell_type": "code",
   "execution_count": 20,
   "metadata": {},
   "outputs": [
    {
     "data": {
      "text/html": [
       "<div>\n",
       "<style>\n",
       "    .dataframe thead tr:only-child th {\n",
       "        text-align: right;\n",
       "    }\n",
       "\n",
       "    .dataframe thead th {\n",
       "        text-align: left;\n",
       "    }\n",
       "\n",
       "    .dataframe tbody tr th {\n",
       "        vertical-align: top;\n",
       "    }\n",
       "</style>\n",
       "<table border=\"1\" class=\"dataframe\">\n",
       "  <thead>\n",
       "    <tr style=\"text-align: right;\">\n",
       "      <th></th>\n",
       "      <th></th>\n",
       "      <th></th>\n",
       "      <th>GCIF</th>\n",
       "      <th>EAD_SACCR</th>\n",
       "      <th>CEM_EAD</th>\n",
       "      <th>RWA_SACCR</th>\n",
       "      <th>CEM_RWA</th>\n",
       "      <th>kbn</th>\n",
       "      <th>gyousyu</th>\n",
       "    </tr>\n",
       "    <tr>\n",
       "      <th>kbn</th>\n",
       "      <th>gyousyu</th>\n",
       "      <th></th>\n",
       "      <th></th>\n",
       "      <th></th>\n",
       "      <th></th>\n",
       "      <th></th>\n",
       "      <th></th>\n",
       "      <th></th>\n",
       "      <th></th>\n",
       "    </tr>\n",
       "  </thead>\n",
       "  <tbody>\n",
       "    <tr>\n",
       "      <th rowspan=\"4\" valign=\"top\">bank</th>\n",
       "      <th rowspan=\"4\" valign=\"top\">finance</th>\n",
       "      <th>5</th>\n",
       "      <td>486</td>\n",
       "      <td>9.784517e+07</td>\n",
       "      <td>6.429847e+06</td>\n",
       "      <td>8.402405e+07</td>\n",
       "      <td>2.521156e+06</td>\n",
       "      <td>bank</td>\n",
       "      <td>finance</td>\n",
       "    </tr>\n",
       "    <tr>\n",
       "      <th>12</th>\n",
       "      <td>389</td>\n",
       "      <td>5.415766e+07</td>\n",
       "      <td>3.399775e+06</td>\n",
       "      <td>4.067523e+07</td>\n",
       "      <td>1.430213e+06</td>\n",
       "      <td>bank</td>\n",
       "      <td>finance</td>\n",
       "    </tr>\n",
       "    <tr>\n",
       "      <th>2</th>\n",
       "      <td>986</td>\n",
       "      <td>1.916497e+07</td>\n",
       "      <td>1.884677e+06</td>\n",
       "      <td>1.107456e+07</td>\n",
       "      <td>1.106932e+06</td>\n",
       "      <td>bank</td>\n",
       "      <td>finance</td>\n",
       "    </tr>\n",
       "    <tr>\n",
       "      <th>1</th>\n",
       "      <td>786</td>\n",
       "      <td>8.083901e+06</td>\n",
       "      <td>1.614773e+05</td>\n",
       "      <td>2.311649e+06</td>\n",
       "      <td>9.002309e+04</td>\n",
       "      <td>bank</td>\n",
       "      <td>finance</td>\n",
       "    </tr>\n",
       "    <tr>\n",
       "      <th rowspan=\"3\" valign=\"top\">ccp</th>\n",
       "      <th rowspan=\"3\" valign=\"top\">finance</th>\n",
       "      <th>11</th>\n",
       "      <td>128</td>\n",
       "      <td>4.835322e+07</td>\n",
       "      <td>8.699228e+06</td>\n",
       "      <td>4.366466e+07</td>\n",
       "      <td>8.501567e+06</td>\n",
       "      <td>ccp</td>\n",
       "      <td>finance</td>\n",
       "    </tr>\n",
       "    <tr>\n",
       "      <th>8</th>\n",
       "      <td>687</td>\n",
       "      <td>1.758502e+07</td>\n",
       "      <td>5.778570e+06</td>\n",
       "      <td>7.531977e+06</td>\n",
       "      <td>3.815376e+06</td>\n",
       "      <td>ccp</td>\n",
       "      <td>finance</td>\n",
       "    </tr>\n",
       "    <tr>\n",
       "      <th>9</th>\n",
       "      <td>918</td>\n",
       "      <td>1.559255e+07</td>\n",
       "      <td>4.195526e+06</td>\n",
       "      <td>8.824461e+06</td>\n",
       "      <td>2.175445e+06</td>\n",
       "      <td>ccp</td>\n",
       "      <td>finance</td>\n",
       "    </tr>\n",
       "    <tr>\n",
       "      <th rowspan=\"6\" valign=\"top\">customer</th>\n",
       "      <th rowspan=\"3\" valign=\"top\">consumer service</th>\n",
       "      <th>10</th>\n",
       "      <td>864</td>\n",
       "      <td>1.683060e+07</td>\n",
       "      <td>2.906436e+06</td>\n",
       "      <td>1.963227e+06</td>\n",
       "      <td>2.078169e+06</td>\n",
       "      <td>customer</td>\n",
       "      <td>consumer service</td>\n",
       "    </tr>\n",
       "    <tr>\n",
       "      <th>7</th>\n",
       "      <td>764</td>\n",
       "      <td>7.830127e+06</td>\n",
       "      <td>2.788185e+06</td>\n",
       "      <td>2.166783e+06</td>\n",
       "      <td>9.915404e+05</td>\n",
       "      <td>customer</td>\n",
       "      <td>consumer service</td>\n",
       "    </tr>\n",
       "    <tr>\n",
       "      <th>6</th>\n",
       "      <td>187</td>\n",
       "      <td>3.959633e+07</td>\n",
       "      <td>2.057229e+06</td>\n",
       "      <td>1.310034e+07</td>\n",
       "      <td>1.167193e+06</td>\n",
       "      <td>customer</td>\n",
       "      <td>consumer service</td>\n",
       "    </tr>\n",
       "    <tr>\n",
       "      <th rowspan=\"2\" valign=\"top\">industry</th>\n",
       "      <th>3</th>\n",
       "      <td>123</td>\n",
       "      <td>6.351879e+07</td>\n",
       "      <td>7.246506e+06</td>\n",
       "      <td>6.067554e+07</td>\n",
       "      <td>6.063667e+06</td>\n",
       "      <td>customer</td>\n",
       "      <td>industry</td>\n",
       "    </tr>\n",
       "    <tr>\n",
       "      <th>4</th>\n",
       "      <td>467</td>\n",
       "      <td>7.691376e+07</td>\n",
       "      <td>5.834574e+06</td>\n",
       "      <td>8.431096e+06</td>\n",
       "      <td>4.594163e+06</td>\n",
       "      <td>customer</td>\n",
       "      <td>industry</td>\n",
       "    </tr>\n",
       "    <tr>\n",
       "      <th>telecom</th>\n",
       "      <th>0</th>\n",
       "      <td>873</td>\n",
       "      <td>5.537346e+07</td>\n",
       "      <td>2.061419e+06</td>\n",
       "      <td>5.505531e+07</td>\n",
       "      <td>1.305577e+06</td>\n",
       "      <td>customer</td>\n",
       "      <td>telecom</td>\n",
       "    </tr>\n",
       "  </tbody>\n",
       "</table>\n",
       "</div>"
      ],
      "text/plain": [
       "                              GCIF     EAD_SACCR       CEM_EAD     RWA_SACCR  \\\n",
       "kbn      gyousyu                                                               \n",
       "bank     finance          5    486  9.784517e+07  6.429847e+06  8.402405e+07   \n",
       "                          12   389  5.415766e+07  3.399775e+06  4.067523e+07   \n",
       "                          2    986  1.916497e+07  1.884677e+06  1.107456e+07   \n",
       "                          1    786  8.083901e+06  1.614773e+05  2.311649e+06   \n",
       "ccp      finance          11   128  4.835322e+07  8.699228e+06  4.366466e+07   \n",
       "                          8    687  1.758502e+07  5.778570e+06  7.531977e+06   \n",
       "                          9    918  1.559255e+07  4.195526e+06  8.824461e+06   \n",
       "customer consumer service 10   864  1.683060e+07  2.906436e+06  1.963227e+06   \n",
       "                          7    764  7.830127e+06  2.788185e+06  2.166783e+06   \n",
       "                          6    187  3.959633e+07  2.057229e+06  1.310034e+07   \n",
       "         industry         3    123  6.351879e+07  7.246506e+06  6.067554e+07   \n",
       "                          4    467  7.691376e+07  5.834574e+06  8.431096e+06   \n",
       "         telecom          0    873  5.537346e+07  2.061419e+06  5.505531e+07   \n",
       "\n",
       "                                   CEM_RWA       kbn           gyousyu  \n",
       "kbn      gyousyu                                                        \n",
       "bank     finance          5   2.521156e+06      bank           finance  \n",
       "                          12  1.430213e+06      bank           finance  \n",
       "                          2   1.106932e+06      bank           finance  \n",
       "                          1   9.002309e+04      bank           finance  \n",
       "ccp      finance          11  8.501567e+06       ccp           finance  \n",
       "                          8   3.815376e+06       ccp           finance  \n",
       "                          9   2.175445e+06       ccp           finance  \n",
       "customer consumer service 10  2.078169e+06  customer  consumer service  \n",
       "                          7   9.915404e+05  customer  consumer service  \n",
       "                          6   1.167193e+06  customer  consumer service  \n",
       "         industry         3   6.063667e+06  customer          industry  \n",
       "                          4   4.594163e+06  customer          industry  \n",
       "         telecom          0   1.305577e+06  customer           telecom  "
      ]
     },
     "execution_count": 20,
     "metadata": {},
     "output_type": "execute_result"
    }
   ],
   "source": [
    "df_ead.groupby(['kbn', 'gyousyu']).apply(sort_values, 'CEM_EAD')"
   ]
  },
  {
   "cell_type": "code",
   "execution_count": 21,
   "metadata": {},
   "outputs": [
    {
     "data": {
      "text/html": [
       "<div>\n",
       "<style>\n",
       "    .dataframe thead tr:only-child th {\n",
       "        text-align: right;\n",
       "    }\n",
       "\n",
       "    .dataframe thead th {\n",
       "        text-align: left;\n",
       "    }\n",
       "\n",
       "    .dataframe tbody tr th {\n",
       "        vertical-align: top;\n",
       "    }\n",
       "</style>\n",
       "<table border=\"1\" class=\"dataframe\">\n",
       "  <thead>\n",
       "    <tr style=\"text-align: right;\">\n",
       "      <th></th>\n",
       "      <th>kbn</th>\n",
       "      <th>gyousyu</th>\n",
       "      <th>GCIF</th>\n",
       "      <th>EAD_SACCR</th>\n",
       "      <th>CEM_EAD</th>\n",
       "      <th>RWA_SACCR</th>\n",
       "      <th>CEM_RWA</th>\n",
       "    </tr>\n",
       "  </thead>\n",
       "  <tbody>\n",
       "    <tr>\n",
       "      <th>0</th>\n",
       "      <td>bank</td>\n",
       "      <td>finance</td>\n",
       "      <td>2647</td>\n",
       "      <td>1.792517e+08</td>\n",
       "      <td>1.187578e+07</td>\n",
       "      <td>1.380855e+08</td>\n",
       "      <td>5.148323e+06</td>\n",
       "    </tr>\n",
       "    <tr>\n",
       "      <th>1</th>\n",
       "      <td>ccp</td>\n",
       "      <td>finance</td>\n",
       "      <td>1733</td>\n",
       "      <td>8.153079e+07</td>\n",
       "      <td>1.867332e+07</td>\n",
       "      <td>6.002109e+07</td>\n",
       "      <td>1.449239e+07</td>\n",
       "    </tr>\n",
       "    <tr>\n",
       "      <th>2</th>\n",
       "      <td>customer</td>\n",
       "      <td>consumer service</td>\n",
       "      <td>1815</td>\n",
       "      <td>6.425706e+07</td>\n",
       "      <td>7.751850e+06</td>\n",
       "      <td>1.723035e+07</td>\n",
       "      <td>4.236902e+06</td>\n",
       "    </tr>\n",
       "    <tr>\n",
       "      <th>3</th>\n",
       "      <td>customer</td>\n",
       "      <td>industry</td>\n",
       "      <td>590</td>\n",
       "      <td>1.404326e+08</td>\n",
       "      <td>1.308108e+07</td>\n",
       "      <td>6.910663e+07</td>\n",
       "      <td>1.065783e+07</td>\n",
       "    </tr>\n",
       "    <tr>\n",
       "      <th>4</th>\n",
       "      <td>customer</td>\n",
       "      <td>telecom</td>\n",
       "      <td>873</td>\n",
       "      <td>5.537346e+07</td>\n",
       "      <td>2.061419e+06</td>\n",
       "      <td>5.505531e+07</td>\n",
       "      <td>1.305577e+06</td>\n",
       "    </tr>\n",
       "  </tbody>\n",
       "</table>\n",
       "</div>"
      ],
      "text/plain": [
       "        kbn           gyousyu  GCIF     EAD_SACCR       CEM_EAD     RWA_SACCR  \\\n",
       "0      bank           finance  2647  1.792517e+08  1.187578e+07  1.380855e+08   \n",
       "1       ccp           finance  1733  8.153079e+07  1.867332e+07  6.002109e+07   \n",
       "2  customer  consumer service  1815  6.425706e+07  7.751850e+06  1.723035e+07   \n",
       "3  customer          industry   590  1.404326e+08  1.308108e+07  6.910663e+07   \n",
       "4  customer           telecom   873  5.537346e+07  2.061419e+06  5.505531e+07   \n",
       "\n",
       "        CEM_RWA  \n",
       "0  5.148323e+06  \n",
       "1  1.449239e+07  \n",
       "2  4.236902e+06  \n",
       "3  1.065783e+07  \n",
       "4  1.305577e+06  "
      ]
     },
     "execution_count": 21,
     "metadata": {},
     "output_type": "execute_result"
    }
   ],
   "source": [
    "df_agg = df_ead.groupby(['kbn', 'gyousyu'], as_index=False).sum()\n",
    "df_agg"
   ]
  },
  {
   "cell_type": "code",
   "execution_count": 22,
   "metadata": {},
   "outputs": [
    {
     "data": {
      "text/plain": [
       "<matplotlib.axes._subplots.AxesSubplot at 0x1a154e66d8>"
      ]
     },
     "execution_count": 22,
     "metadata": {},
     "output_type": "execute_result"
    },
    {
     "data": {
      "image/png": "[encoded data removed]",
      "text/plain": [
       "<matplotlib.figure.Figure at 0x1a15513048>"
      ]
     },
     "metadata": {},
     "output_type": "display_data"
    }
   ],
   "source": [
    "sns.barplot(data=df_agg, x='kbn', y='CEM_EAD')"
   ]
  },
  {
   "cell_type": "code",
   "execution_count": 23,
   "metadata": {},
   "outputs": [
    {
     "data": {
      "text/html": [
       "<div>\n",
       "<style>\n",
       "    .dataframe thead tr:only-child th {\n",
       "        text-align: right;\n",
       "    }\n",
       "\n",
       "    .dataframe thead th {\n",
       "        text-align: left;\n",
       "    }\n",
       "\n",
       "    .dataframe tbody tr th {\n",
       "        vertical-align: top;\n",
       "    }\n",
       "</style>\n",
       "<table border=\"1\" class=\"dataframe\">\n",
       "  <thead>\n",
       "    <tr style=\"text-align: right;\">\n",
       "      <th></th>\n",
       "      <th>kbn</th>\n",
       "      <th>GCIF</th>\n",
       "      <th>EAD_SACCR</th>\n",
       "      <th>CEM_EAD</th>\n",
       "      <th>RWA_SACCR</th>\n",
       "      <th>CEM_RWA</th>\n",
       "    </tr>\n",
       "  </thead>\n",
       "  <tbody>\n",
       "    <tr>\n",
       "      <th>0</th>\n",
       "      <td>bank</td>\n",
       "      <td>2647</td>\n",
       "      <td>1.792517e+08</td>\n",
       "      <td>1.187578e+07</td>\n",
       "      <td>1.380855e+08</td>\n",
       "      <td>5.148323e+06</td>\n",
       "    </tr>\n",
       "    <tr>\n",
       "      <th>1</th>\n",
       "      <td>ccp</td>\n",
       "      <td>1733</td>\n",
       "      <td>8.153079e+07</td>\n",
       "      <td>1.867332e+07</td>\n",
       "      <td>6.002109e+07</td>\n",
       "      <td>1.449239e+07</td>\n",
       "    </tr>\n",
       "    <tr>\n",
       "      <th>2</th>\n",
       "      <td>customer</td>\n",
       "      <td>3278</td>\n",
       "      <td>2.600631e+08</td>\n",
       "      <td>2.289435e+07</td>\n",
       "      <td>1.413923e+08</td>\n",
       "      <td>1.620031e+07</td>\n",
       "    </tr>\n",
       "  </tbody>\n",
       "</table>\n",
       "</div>"
      ],
      "text/plain": [
       "        kbn  GCIF     EAD_SACCR       CEM_EAD     RWA_SACCR       CEM_RWA\n",
       "0      bank  2647  1.792517e+08  1.187578e+07  1.380855e+08  5.148323e+06\n",
       "1       ccp  1733  8.153079e+07  1.867332e+07  6.002109e+07  1.449239e+07\n",
       "2  customer  3278  2.600631e+08  2.289435e+07  1.413923e+08  1.620031e+07"
      ]
     },
     "execution_count": 23,
     "metadata": {},
     "output_type": "execute_result"
    }
   ],
   "source": [
    "df_sum = df_ead.groupby('kbn', as_index=False).sum()\n",
    "df_sum"
   ]
  },
  {
   "cell_type": "code",
   "execution_count": 24,
   "metadata": {},
   "outputs": [
    {
     "data": {
      "text/plain": [
       "<matplotlib.axes._subplots.AxesSubplot at 0x1a154de5c0>"
      ]
     },
     "execution_count": 24,
     "metadata": {},
     "output_type": "execute_result"
    },
    {
     "data": {
      "image/png": "[encoded data removed]",
      "text/plain": [
       "<matplotlib.figure.Figure at 0x1a154acf98>"
      ]
     },
     "metadata": {},
     "output_type": "display_data"
    }
   ],
   "source": [
    "sns.countplot('kbn', data=df_ead)"
   ]
  },
  {
   "cell_type": "code",
   "execution_count": 25,
   "metadata": {},
   "outputs": [
    {
     "data": {
      "text/plain": [
       "<seaborn.axisgrid.PairGrid at 0x1a157f8048>"
      ]
     },
     "execution_count": 25,
     "metadata": {},
     "output_type": "execute_result"
    },
    {
     "data": {
      "image/png": "[encoded data removed]",
      "text/plain": [
       "<matplotlib.figure.Figure at 0x1a157f8588>"
      ]
     },
     "metadata": {},
     "output_type": "display_data"
    }
   ],
   "source": [
    "sns.set(style='darkgrid')\n",
    "sns.pairplot(data=df_ead, x_vars='EAD_SACCR', y_vars='CEM_EAD', hue='kbn')"
   ]
  },
  {
   "cell_type": "code",
   "execution_count": 26,
   "metadata": {},
   "outputs": [
    {
     "data": {
      "text/plain": [
       "<matplotlib.axes._subplots.AxesSubplot at 0x1a15726080>"
      ]
     },
     "execution_count": 26,
     "metadata": {},
     "output_type": "execute_result"
    },
    {
     "data": {
      "image/png": "[encoded data removed]",
      "text/plain": [
       "<matplotlib.figure.Figure at 0x1a15771cc0>"
      ]
     },
     "metadata": {},
     "output_type": "display_data"
    }
   ],
   "source": [
    "sns.barplot(data=df_ead, x='kbn', y='EAD_SACCR', hue='gyousyu')"
   ]
  },
  {
   "cell_type": "code",
   "execution_count": 27,
   "metadata": {},
   "outputs": [
    {
     "data": {
      "text/plain": [
       "<matplotlib.axes._subplots.AxesSubplot at 0x1a15de54a8>"
      ]
     },
     "execution_count": 27,
     "metadata": {},
     "output_type": "execute_result"
    },
    {
     "data": {
      "image/png": "[encoded data removed]",
      "text/plain": [
       "<matplotlib.figure.Figure at 0x1a157f8400>"
      ]
     },
     "metadata": {},
     "output_type": "display_data"
    }
   ],
   "source": [
    "sns.barplot(data=df_sum, x='kbn', y='EAD_SACCR')"
   ]
  },
  {
   "cell_type": "code",
   "execution_count": 28,
   "metadata": {},
   "outputs": [
    {
     "data": {
      "text/plain": [
       "<seaborn.axisgrid.FacetGrid at 0x1a15f0a5f8>"
      ]
     },
     "execution_count": 28,
     "metadata": {},
     "output_type": "execute_result"
    },
    {
     "data": {
      "image/png": "[encoded data removed]",
      "text/plain": [
       "<matplotlib.figure.Figure at 0x1a15efc668>"
      ]
     },
     "metadata": {},
     "output_type": "display_data"
    }
   ],
   "source": [
    "g = sns.FacetGrid(df_ead, col='gyousyu', hue='kbn')\n",
    "g.map(plt.scatter, 'EAD_SACCR', 'CEM_EAD')"
   ]
  },
  {
   "cell_type": "code",
   "execution_count": 29,
   "metadata": {},
   "outputs": [
    {
     "data": {
      "text/html": [
       "<div>\n",
       "<style>\n",
       "    .dataframe thead tr:only-child th {\n",
       "        text-align: right;\n",
       "    }\n",
       "\n",
       "    .dataframe thead th {\n",
       "        text-align: left;\n",
       "    }\n",
       "\n",
       "    .dataframe tbody tr th {\n",
       "        vertical-align: top;\n",
       "    }\n",
       "</style>\n",
       "<table border=\"1\" class=\"dataframe\">\n",
       "  <thead>\n",
       "    <tr style=\"text-align: right;\">\n",
       "      <th></th>\n",
       "      <th>kbn</th>\n",
       "      <th>gyousyu</th>\n",
       "      <th>GCIF</th>\n",
       "      <th>EAD_SACCR</th>\n",
       "      <th>CEM_EAD</th>\n",
       "      <th>RWA_SACCR</th>\n",
       "      <th>CEM_RWA</th>\n",
       "      <th>kbn_num</th>\n",
       "    </tr>\n",
       "  </thead>\n",
       "  <tbody>\n",
       "    <tr>\n",
       "      <th>0</th>\n",
       "      <td>bank</td>\n",
       "      <td>finance</td>\n",
       "      <td>2647</td>\n",
       "      <td>1.792517e+08</td>\n",
       "      <td>1.187578e+07</td>\n",
       "      <td>1.380855e+08</td>\n",
       "      <td>5.148323e+06</td>\n",
       "      <td>1</td>\n",
       "    </tr>\n",
       "    <tr>\n",
       "      <th>1</th>\n",
       "      <td>ccp</td>\n",
       "      <td>finance</td>\n",
       "      <td>1733</td>\n",
       "      <td>8.153079e+07</td>\n",
       "      <td>1.867332e+07</td>\n",
       "      <td>6.002109e+07</td>\n",
       "      <td>1.449239e+07</td>\n",
       "      <td>2</td>\n",
       "    </tr>\n",
       "    <tr>\n",
       "      <th>2</th>\n",
       "      <td>customer</td>\n",
       "      <td>consumer service</td>\n",
       "      <td>1815</td>\n",
       "      <td>6.425706e+07</td>\n",
       "      <td>7.751850e+06</td>\n",
       "      <td>1.723035e+07</td>\n",
       "      <td>4.236902e+06</td>\n",
       "      <td>3</td>\n",
       "    </tr>\n",
       "    <tr>\n",
       "      <th>3</th>\n",
       "      <td>customer</td>\n",
       "      <td>industry</td>\n",
       "      <td>590</td>\n",
       "      <td>1.404326e+08</td>\n",
       "      <td>1.308108e+07</td>\n",
       "      <td>6.910663e+07</td>\n",
       "      <td>1.065783e+07</td>\n",
       "      <td>3</td>\n",
       "    </tr>\n",
       "    <tr>\n",
       "      <th>4</th>\n",
       "      <td>customer</td>\n",
       "      <td>telecom</td>\n",
       "      <td>873</td>\n",
       "      <td>5.537346e+07</td>\n",
       "      <td>2.061419e+06</td>\n",
       "      <td>5.505531e+07</td>\n",
       "      <td>1.305577e+06</td>\n",
       "      <td>3</td>\n",
       "    </tr>\n",
       "  </tbody>\n",
       "</table>\n",
       "</div>"
      ],
      "text/plain": [
       "        kbn           gyousyu  GCIF     EAD_SACCR       CEM_EAD     RWA_SACCR  \\\n",
       "0      bank           finance  2647  1.792517e+08  1.187578e+07  1.380855e+08   \n",
       "1       ccp           finance  1733  8.153079e+07  1.867332e+07  6.002109e+07   \n",
       "2  customer  consumer service  1815  6.425706e+07  7.751850e+06  1.723035e+07   \n",
       "3  customer          industry   590  1.404326e+08  1.308108e+07  6.910663e+07   \n",
       "4  customer           telecom   873  5.537346e+07  2.061419e+06  5.505531e+07   \n",
       "\n",
       "        CEM_RWA  kbn_num  \n",
       "0  5.148323e+06        1  \n",
       "1  1.449239e+07        2  \n",
       "2  4.236902e+06        3  \n",
       "3  1.065783e+07        3  \n",
       "4  1.305577e+06        3  "
      ]
     },
     "execution_count": 29,
     "metadata": {},
     "output_type": "execute_result"
    }
   ],
   "source": [
    "mapping = {'bank': 1, 'ccp':2, 'customer': 3}\n",
    "df_agg['kbn_num'] = df_agg['kbn'].apply(lambda x: mapping[x])\n",
    "df_agg"
   ]
  },
  {
   "cell_type": "code",
   "execution_count": 44,
   "metadata": {},
   "outputs": [
    {
     "data": {
      "text/html": [
       "<div>\n",
       "<style>\n",
       "    .dataframe thead tr:only-child th {\n",
       "        text-align: right;\n",
       "    }\n",
       "\n",
       "    .dataframe thead th {\n",
       "        text-align: left;\n",
       "    }\n",
       "\n",
       "    .dataframe tbody tr th {\n",
       "        vertical-align: top;\n",
       "    }\n",
       "</style>\n",
       "<table border=\"1\" class=\"dataframe\">\n",
       "  <thead>\n",
       "    <tr style=\"text-align: right;\">\n",
       "      <th></th>\n",
       "      <th>kbn</th>\n",
       "      <th>GCIF</th>\n",
       "      <th>EAD_SACCR</th>\n",
       "      <th>CEM_EAD</th>\n",
       "      <th>RWA_SACCR</th>\n",
       "      <th>CEM_RWA</th>\n",
       "      <th>kbn_num</th>\n",
       "    </tr>\n",
       "  </thead>\n",
       "  <tbody>\n",
       "    <tr>\n",
       "      <th>0</th>\n",
       "      <td>bank</td>\n",
       "      <td>2647</td>\n",
       "      <td>1.792517e+08</td>\n",
       "      <td>1.187578e+07</td>\n",
       "      <td>1.380855e+08</td>\n",
       "      <td>5.148323e+06</td>\n",
       "      <td>1</td>\n",
       "    </tr>\n",
       "    <tr>\n",
       "      <th>1</th>\n",
       "      <td>ccp</td>\n",
       "      <td>1733</td>\n",
       "      <td>8.153079e+07</td>\n",
       "      <td>1.867332e+07</td>\n",
       "      <td>6.002109e+07</td>\n",
       "      <td>1.449239e+07</td>\n",
       "      <td>2</td>\n",
       "    </tr>\n",
       "    <tr>\n",
       "      <th>2</th>\n",
       "      <td>customer</td>\n",
       "      <td>3278</td>\n",
       "      <td>2.600631e+08</td>\n",
       "      <td>2.289435e+07</td>\n",
       "      <td>1.413923e+08</td>\n",
       "      <td>1.620031e+07</td>\n",
       "      <td>9</td>\n",
       "    </tr>\n",
       "  </tbody>\n",
       "</table>\n",
       "</div>"
      ],
      "text/plain": [
       "        kbn  GCIF     EAD_SACCR       CEM_EAD     RWA_SACCR       CEM_RWA  \\\n",
       "0      bank  2647  1.792517e+08  1.187578e+07  1.380855e+08  5.148323e+06   \n",
       "1       ccp  1733  8.153079e+07  1.867332e+07  6.002109e+07  1.449239e+07   \n",
       "2  customer  3278  2.600631e+08  2.289435e+07  1.413923e+08  1.620031e+07   \n",
       "\n",
       "   kbn_num  \n",
       "0        1  \n",
       "1        2  \n",
       "2        9  "
      ]
     },
     "execution_count": 44,
     "metadata": {},
     "output_type": "execute_result"
    }
   ],
   "source": [
    "df_agg_agg = df_agg.groupby('kbn').sum().reset_index()\n",
    "df_agg_agg"
   ]
  },
  {
   "cell_type": "code",
   "execution_count": 103,
   "metadata": {},
   "outputs": [
    {
     "data": {
      "text/plain": [
       "([<matplotlib.axis.XTick at 0x1a166af630>,\n",
       "  <matplotlib.axis.XTick at 0x1a170ee5c0>,\n",
       "  <matplotlib.axis.XTick at 0x1a173db550>,\n",
       "  <matplotlib.axis.XTick at 0x1a170a4a20>,\n",
       "  <matplotlib.axis.XTick at 0x1a17091518>],\n",
       " <a list of 3 Text xticklabel objects>)"
      ]
     },
     "execution_count": 103,
     "metadata": {},
     "output_type": "execute_result"
    },
    {
     "data": {
      "image/png": "[encoded data removed]",
      "text/plain": [
       "<matplotlib.figure.Figure at 0x1a16706400>"
      ]
     },
     "metadata": {},
     "output_type": "display_data"
    }
   ],
   "source": [
    "#fig = plt.figure(figsize=(6,4))\n",
    "#ax = fig.add_subplot(1,1,1)\n",
    "width= 0.5\n",
    "label = ['bank', 'ccp', 'customer']\n",
    "plt.bar(df_agg['kbn_num'], df_agg['EAD_SACCR'], width=width, align='center')\n",
    "plt.bar(df_agg['kbn_num']+width, df_agg['CEM_EAD'], width=width, align='center')\n",
    "\n",
    "plt.xticks(df_agg['kbn_num'], label)"
   ]
  },
  {
   "cell_type": "code",
   "execution_count": 381,
   "metadata": {},
   "outputs": [],
   "source": [
    "def barplt_next_to_barplt(df, list_x_axis, list_y_axis, num_width):\n",
    "    dict_y_axis = create_dict_for_barplt(df, list_y_axis)\n",
    "    key_list = []\n",
    "    value_list = []\n",
    "    for key, values in dict_y_axis.items():\n",
    "        key_list.append(key)\n",
    "        value_list.append(values)\n",
    "    len_x_axis = len(list_x_axis)\n",
    "    num_list = np.arange(1, len_x_axis + 1)\n",
    "    len_value_list = len(value_list)\n",
    "    for i in range(len_value_list):\n",
    "        plt.bar(num_list + num_width * i, value_list[i], width=num_width, align='center')\n",
    "        plt.xticks( (2* (num_list - num_width) + num_width * len_value_list) / 2 , list_x_axis)\n",
    "    plt.legend(key_list)"
   ]
  },
  {
   "cell_type": "code",
   "execution_count": 382,
   "metadata": {},
   "outputs": [],
   "source": [
    "def create_dict_for_barplt(df, y_axis_str_list):\n",
    "    key_list = y_axis_str_list\n",
    "    y_axis_dict = {}\n",
    "    for i in range(len(y_axis_str_list)):\n",
    "        y_axis_dict.setdefault(key_list[i], list(df[key_list[i]]))\n",
    "    return y_axis_dict"
   ]
  },
  {
   "cell_type": "code",
   "execution_count": 383,
   "metadata": {},
   "outputs": [
    {
     "data": {
      "text/plain": [
       "array([1.15, 2.15, 3.15])"
      ]
     },
     "execution_count": 383,
     "metadata": {},
     "output_type": "execute_result"
    }
   ],
   "source": [
    "((np.arange(1,4) - 0.3) + (np.arange(1,4) - 0.3) + 0.3 * 3) /2"
   ]
  },
  {
   "cell_type": "code",
   "execution_count": 384,
   "metadata": {},
   "outputs": [
    {
     "name": "stdout",
     "output_type": "stream",
     "text": [
      "EAD_SACCR\n",
      "CEM_EAD\n",
      "RWA_SACCR\n"
     ]
    }
   ],
   "source": [
    "for key, value in create_dict_for_barplt(df_agg_agg, ['EAD_SACCR', 'CEM_EAD', 'RWA_SACCR']).items():\n",
    "    print(key)"
   ]
  },
  {
   "cell_type": "code",
   "execution_count": 385,
   "metadata": {},
   "outputs": [
    {
     "data": {
      "image/png": "[encoded data removed]",
      "text/plain": [
       "<matplotlib.figure.Figure at 0x1a17273828>"
      ]
     },
     "metadata": {},
     "output_type": "display_data"
    }
   ],
   "source": [
    "plt.figure(figsize=(10,6))\n",
    "barplt_next_to_barplt(df_agg_agg, df_agg_agg['kbn'], ['EAD_SACCR', 'CEM_EAD'], 0.3)"
   ]
  },
  {
   "cell_type": "code",
   "execution_count": 264,
   "metadata": {},
   "outputs": [
    {
     "data": {
      "text/plain": [
       "array([1, 2, 3, 4, 5])"
      ]
     },
     "execution_count": 264,
     "metadata": {},
     "output_type": "execute_result"
    }
   ],
   "source": [
    "np.arange(1, 6)"
   ]
  },
  {
   "cell_type": "code",
   "execution_count": 153,
   "metadata": {},
   "outputs": [
    {
     "ename": "TypeError",
     "evalue": "'<' not supported between instances of 'numpy.ndarray' and 'str'",
     "output_type": "error",
     "traceback": [
      "\u001b[0;31m---------------------------------------------------------\u001b[0m",
      "\u001b[0;31mTypeError\u001b[0m               Traceback (most recent call last)",
      "\u001b[0;32m<ipython-input-153-29e2c013ee32>\u001b[0m in \u001b[0;36m<module>\u001b[0;34m()\u001b[0m\n\u001b[1;32m     13\u001b[0m \u001b[0mplt\u001b[0m\u001b[0;34m.\u001b[0m\u001b[0mbar\u001b[0m\u001b[0;34m(\u001b[0m\u001b[0mleft\u001b[0m\u001b[0;34m+\u001b[0m\u001b[0mwidth\u001b[0m\u001b[0;34m,\u001b[0m \u001b[0mheight2\u001b[0m\u001b[0;34m,\u001b[0m \u001b[0mcolor\u001b[0m\u001b[0;34m=\u001b[0m\u001b[0;34m'b'\u001b[0m\u001b[0;34m,\u001b[0m \u001b[0mwidth\u001b[0m\u001b[0;34m=\u001b[0m\u001b[0mwidth\u001b[0m\u001b[0;34m,\u001b[0m \u001b[0malign\u001b[0m\u001b[0;34m=\u001b[0m\u001b[0;34m'center'\u001b[0m\u001b[0;34m)\u001b[0m\u001b[0;34m\u001b[0m\u001b[0m\n\u001b[1;32m     14\u001b[0m \u001b[0;34m\u001b[0m\u001b[0m\n\u001b[0;32m---> 15\u001b[0;31m \u001b[0mplt\u001b[0m\u001b[0;34m.\u001b[0m\u001b[0mxticks\u001b[0m\u001b[0;34m(\u001b[0m\u001b[0mlabels\u001b[0m\u001b[0;34m)\u001b[0m\u001b[0;34m\u001b[0m\u001b[0m\n\u001b[0m\u001b[1;32m     16\u001b[0m \u001b[0mplt\u001b[0m\u001b[0;34m.\u001b[0m\u001b[0mshow\u001b[0m\u001b[0;34m(\u001b[0m\u001b[0;34m)\u001b[0m\u001b[0;34m\u001b[0m\u001b[0m\n",
      "\u001b[0;32m~/anaconda3/lib/python3.6/site-packages/matplotlib/pyplot.py\u001b[0m in \u001b[0;36mxticks\u001b[0;34m(*args, **kwargs)\u001b[0m\n\u001b[1;32m   1696\u001b[0m         \u001b[0mlabels\u001b[0m \u001b[0;34m=\u001b[0m \u001b[0max\u001b[0m\u001b[0;34m.\u001b[0m\u001b[0mget_xticklabels\u001b[0m\u001b[0;34m(\u001b[0m\u001b[0;34m)\u001b[0m\u001b[0;34m\u001b[0m\u001b[0m\n\u001b[1;32m   1697\u001b[0m     \u001b[0;32melif\u001b[0m \u001b[0mlen\u001b[0m\u001b[0;34m(\u001b[0m\u001b[0margs\u001b[0m\u001b[0;34m)\u001b[0m\u001b[0;34m==\u001b[0m\u001b[0;36m1\u001b[0m\u001b[0;34m:\u001b[0m\u001b[0;34m\u001b[0m\u001b[0m\n\u001b[0;32m-> 1698\u001b[0;31m         \u001b[0mlocs\u001b[0m \u001b[0;34m=\u001b[0m \u001b[0max\u001b[0m\u001b[0;34m.\u001b[0m\u001b[0mset_xticks\u001b[0m\u001b[0;34m(\u001b[0m\u001b[0margs\u001b[0m\u001b[0;34m[\u001b[0m\u001b[0;36m0\u001b[0m\u001b[0;34m]\u001b[0m\u001b[0;34m)\u001b[0m\u001b[0;34m\u001b[0m\u001b[0m\n\u001b[0m\u001b[1;32m   1699\u001b[0m         \u001b[0mlabels\u001b[0m \u001b[0;34m=\u001b[0m \u001b[0max\u001b[0m\u001b[0;34m.\u001b[0m\u001b[0mget_xticklabels\u001b[0m\u001b[0;34m(\u001b[0m\u001b[0;34m)\u001b[0m\u001b[0;34m\u001b[0m\u001b[0m\n\u001b[1;32m   1700\u001b[0m     \u001b[0;32melif\u001b[0m \u001b[0mlen\u001b[0m\u001b[0;34m(\u001b[0m\u001b[0margs\u001b[0m\u001b[0;34m)\u001b[0m\u001b[0;34m==\u001b[0m\u001b[0;36m2\u001b[0m\u001b[0;34m:\u001b[0m\u001b[0;34m\u001b[0m\u001b[0m\n",
      "\u001b[0;32m~/anaconda3/lib/python3.6/site-packages/matplotlib/axes/_base.py\u001b[0m in \u001b[0;36mset_xticks\u001b[0;34m(self, ticks, minor)\u001b[0m\n\u001b[1;32m   2976\u001b[0m         \u001b[0mACCEPTS\u001b[0m\u001b[0;34m:\u001b[0m \u001b[0msequence\u001b[0m \u001b[0mof\u001b[0m \u001b[0mfloats\u001b[0m\u001b[0;34m\u001b[0m\u001b[0m\n\u001b[1;32m   2977\u001b[0m         \"\"\"\n\u001b[0;32m-> 2978\u001b[0;31m         \u001b[0mret\u001b[0m \u001b[0;34m=\u001b[0m \u001b[0mself\u001b[0m\u001b[0;34m.\u001b[0m\u001b[0mxaxis\u001b[0m\u001b[0;34m.\u001b[0m\u001b[0mset_ticks\u001b[0m\u001b[0;34m(\u001b[0m\u001b[0mticks\u001b[0m\u001b[0;34m,\u001b[0m \u001b[0mminor\u001b[0m\u001b[0;34m=\u001b[0m\u001b[0mminor\u001b[0m\u001b[0;34m)\u001b[0m\u001b[0;34m\u001b[0m\u001b[0m\n\u001b[0m\u001b[1;32m   2979\u001b[0m         \u001b[0mself\u001b[0m\u001b[0;34m.\u001b[0m\u001b[0mstale\u001b[0m \u001b[0;34m=\u001b[0m \u001b[0;32mTrue\u001b[0m\u001b[0;34m\u001b[0m\u001b[0m\n\u001b[1;32m   2980\u001b[0m         \u001b[0;32mreturn\u001b[0m \u001b[0mret\u001b[0m\u001b[0;34m\u001b[0m\u001b[0m\n",
      "\u001b[0;32m~/anaconda3/lib/python3.6/site-packages/matplotlib/axis.py\u001b[0m in \u001b[0;36mset_ticks\u001b[0;34m(self, ticks, minor)\u001b[0m\n\u001b[1;32m   1626\u001b[0m             \u001b[0mxleft\u001b[0m\u001b[0;34m,\u001b[0m \u001b[0mxright\u001b[0m \u001b[0;34m=\u001b[0m \u001b[0mself\u001b[0m\u001b[0;34m.\u001b[0m\u001b[0mget_view_interval\u001b[0m\u001b[0;34m(\u001b[0m\u001b[0;34m)\u001b[0m\u001b[0;34m\u001b[0m\u001b[0m\n\u001b[1;32m   1627\u001b[0m             \u001b[0;32mif\u001b[0m \u001b[0mxright\u001b[0m \u001b[0;34m>\u001b[0m \u001b[0mxleft\u001b[0m\u001b[0;34m:\u001b[0m\u001b[0;34m\u001b[0m\u001b[0m\n\u001b[0;32m-> 1628\u001b[0;31m                 \u001b[0mself\u001b[0m\u001b[0;34m.\u001b[0m\u001b[0mset_view_interval\u001b[0m\u001b[0;34m(\u001b[0m\u001b[0mmin\u001b[0m\u001b[0;34m(\u001b[0m\u001b[0mticks\u001b[0m\u001b[0;34m)\u001b[0m\u001b[0;34m,\u001b[0m \u001b[0mmax\u001b[0m\u001b[0;34m(\u001b[0m\u001b[0mticks\u001b[0m\u001b[0;34m)\u001b[0m\u001b[0;34m)\u001b[0m\u001b[0;34m\u001b[0m\u001b[0m\n\u001b[0m\u001b[1;32m   1629\u001b[0m             \u001b[0;32melse\u001b[0m\u001b[0;34m:\u001b[0m\u001b[0;34m\u001b[0m\u001b[0m\n\u001b[1;32m   1630\u001b[0m                 \u001b[0mself\u001b[0m\u001b[0;34m.\u001b[0m\u001b[0mset_view_interval\u001b[0m\u001b[0;34m(\u001b[0m\u001b[0mmax\u001b[0m\u001b[0;34m(\u001b[0m\u001b[0mticks\u001b[0m\u001b[0;34m)\u001b[0m\u001b[0;34m,\u001b[0m \u001b[0mmin\u001b[0m\u001b[0;34m(\u001b[0m\u001b[0mticks\u001b[0m\u001b[0;34m)\u001b[0m\u001b[0;34m)\u001b[0m\u001b[0;34m\u001b[0m\u001b[0m\n",
      "\u001b[0;32m~/anaconda3/lib/python3.6/site-packages/matplotlib/axis.py\u001b[0m in \u001b[0;36mset_view_interval\u001b[0;34m(self, vmin, vmax, ignore)\u001b[0m\n\u001b[1;32m   1975\u001b[0m             \u001b[0mVmin\u001b[0m\u001b[0;34m,\u001b[0m \u001b[0mVmax\u001b[0m \u001b[0;34m=\u001b[0m \u001b[0mself\u001b[0m\u001b[0;34m.\u001b[0m\u001b[0mget_view_interval\u001b[0m\u001b[0;34m(\u001b[0m\u001b[0;34m)\u001b[0m\u001b[0;34m\u001b[0m\u001b[0m\n\u001b[1;32m   1976\u001b[0m             \u001b[0;32mif\u001b[0m \u001b[0mVmin\u001b[0m \u001b[0;34m<\u001b[0m \u001b[0mVmax\u001b[0m\u001b[0;34m:\u001b[0m\u001b[0;34m\u001b[0m\u001b[0m\n\u001b[0;32m-> 1977\u001b[0;31m                 self.axes.viewLim.intervalx = (min(vmin, vmax, Vmin),\n\u001b[0m\u001b[1;32m   1978\u001b[0m                                                max(vmin, vmax, Vmax))\n\u001b[1;32m   1979\u001b[0m             \u001b[0;32melse\u001b[0m\u001b[0;34m:\u001b[0m\u001b[0;34m\u001b[0m\u001b[0m\n",
      "\u001b[0;31mTypeError\u001b[0m: '<' not supported between instances of 'numpy.ndarray' and 'str'"
     ]
    },
    {
     "data": {
      "image/png": "[encoded data removed]",
      "text/plain": [
       "<matplotlib.figure.Figure at 0x1a1c9ecb70>"
      ]
     },
     "metadata": {},
     "output_type": "display_data"
    }
   ],
   "source": [
    "import matplotlib.pyplot as plt\n",
    "import numpy as np\n",
    " \n",
    "height1 = [80, 65, 100, 42, 54]  # 点数1\n",
    "height2 = [55, 100, 98, 30, 21]  # 点数2\n",
    " \n",
    "left = np.arange(len(height1))  # numpyで横軸を設定\n",
    "labels = ['Japanese', 'Math', 'Science', 'Social', 'English']\n",
    " \n",
    "width = 0.3\n",
    " \n",
    "plt.bar(left, height1, color='r', width=width, align='center')\n",
    "plt.bar(left+width, height2, color='b', width=width, align='center')\n",
    " \n",
    "plt.xticks(left + width/2, labels)\n",
    "plt.show()"
   ]
  },
  {
   "cell_type": "code",
   "execution_count": null,
   "metadata": {
    "collapsed": true
   },
   "outputs": [],
   "source": []
  }
 ],
 "metadata": {
  "kernelspec": {
   "display_name": "Python 3",
   "language": "python",
   "name": "python3"
  },
  "language_info": {
   "codemirror_mode": {
    "name": "ipython",
    "version": 3
   },
   "file_extension": ".py",
   "mimetype": "text/x-python",
   "name": "python",
   "nbconvert_exporter": "python",
   "pygments_lexer": "ipython3",
   "version": "3.6.2"
  }
 },
 "nbformat": 4,
 "nbformat_minor": 2
}
