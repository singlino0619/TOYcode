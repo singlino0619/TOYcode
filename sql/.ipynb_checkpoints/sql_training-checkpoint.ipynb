{
 "cells": [
  {
   "cell_type": "code",
   "execution_count": 3,
   "metadata": {
    "collapsed": true
   },
   "outputs": [],
   "source": [
    "import pandas as pd\n",
    "import numpy as np\n",
    "import matplotlib.pyplot as plt\n",
    "%matplotlib inline"
   ]
  },
  {
   "cell_type": "code",
   "execution_count": 4,
   "metadata": {
    "collapsed": true
   },
   "outputs": [],
   "source": [
    "from io import StringIO\n",
    "import sqlite3\n",
    "from sqlite3 import OperationalError"
   ]
  },
  {
   "cell_type": "markdown",
   "metadata": {},
   "source": [
    "# adhoc trial"
   ]
  },
  {
   "cell_type": "markdown",
   "metadata": {},
   "source": [
    "## make, wirte and read DB for various base_date"
   ]
  },
  {
   "cell_type": "markdown",
   "metadata": {},
   "source": [
    "### 20180928"
   ]
  },
  {
   "cell_type": "code",
   "execution_count": 35,
   "metadata": {
    "collapsed": true
   },
   "outputs": [],
   "source": [
    "data = '''\n",
    "GCIF,name,kbn,internal_rating\n",
    "0111,SS,CUS,1\n",
    "3890,JJ,IBK,2\n",
    "8907,UH,CPP,3\n",
    "7863,UK,CUS,6\n",
    "'''\n",
    "df_data_201809 = pd.read_csv(StringIO(data))\n",
    "df_data_201809['base_date'] = '20180928'"
   ]
  },
  {
   "cell_type": "markdown",
   "metadata": {},
   "source": [
    "#### wirte sql"
   ]
  },
  {
   "cell_type": "code",
   "execution_count": 36,
   "metadata": {
    "collapsed": true
   },
   "outputs": [],
   "source": [
    "dbname = '/Users/susynishida/Desktop/dev/DB/test/GCIF_LIST.db'\n",
    "conn = sqlite3.connect(dbname)\n",
    "df_data_201809.to_sql('GCIF_LIST_DB', conn, if_exists='append', index=False)\n",
    "conn.close()"
   ]
  },
  {
   "cell_type": "markdown",
   "metadata": {},
   "source": [
    "#### read sql (do not forgett connect sqlite3 server)"
   ]
  },
  {
   "cell_type": "code",
   "execution_count": 212,
   "metadata": {},
   "outputs": [
    {
     "data": {
      "text/html": [
       "<div>\n",
       "<style>\n",
       "    .dataframe thead tr:only-child th {\n",
       "        text-align: right;\n",
       "    }\n",
       "\n",
       "    .dataframe thead th {\n",
       "        text-align: left;\n",
       "    }\n",
       "\n",
       "    .dataframe tbody tr th {\n",
       "        vertical-align: top;\n",
       "    }\n",
       "</style>\n",
       "<table border=\"1\" class=\"dataframe\">\n",
       "  <thead>\n",
       "    <tr style=\"text-align: right;\">\n",
       "      <th></th>\n",
       "      <th>index</th>\n",
       "      <th>GCIF</th>\n",
       "      <th>name</th>\n",
       "      <th>kbn</th>\n",
       "      <th>internal_rating</th>\n",
       "      <th>base_date</th>\n",
       "    </tr>\n",
       "  </thead>\n",
       "  <tbody>\n",
       "    <tr>\n",
       "      <th>0</th>\n",
       "      <td>0</td>\n",
       "      <td>111</td>\n",
       "      <td>SS</td>\n",
       "      <td>CUS</td>\n",
       "      <td>1</td>\n",
       "      <td>20180928</td>\n",
       "    </tr>\n",
       "    <tr>\n",
       "      <th>1</th>\n",
       "      <td>1</td>\n",
       "      <td>3890</td>\n",
       "      <td>JJ</td>\n",
       "      <td>IBK</td>\n",
       "      <td>2</td>\n",
       "      <td>20180928</td>\n",
       "    </tr>\n",
       "    <tr>\n",
       "      <th>2</th>\n",
       "      <td>2</td>\n",
       "      <td>8907</td>\n",
       "      <td>UH</td>\n",
       "      <td>CPP</td>\n",
       "      <td>3</td>\n",
       "      <td>20180928</td>\n",
       "    </tr>\n",
       "    <tr>\n",
       "      <th>3</th>\n",
       "      <td>3</td>\n",
       "      <td>7863</td>\n",
       "      <td>UK</td>\n",
       "      <td>CUS</td>\n",
       "      <td>6</td>\n",
       "      <td>20180928</td>\n",
       "    </tr>\n",
       "  </tbody>\n",
       "</table>\n",
       "</div>"
      ],
      "text/plain": [
       "   index  GCIF  name   kbn   internal_rating base_date\n",
       "0      0   111    SS   CUS                 1  20180928\n",
       "1      1  3890    JJ   IBK                 2  20180928\n",
       "2      2  8907    UH   CPP                 3  20180928\n",
       "3      3  7863    UK   CUS                 6  20180928"
      ]
     },
     "execution_count": 212,
     "metadata": {},
     "output_type": "execute_result"
    }
   ],
   "source": [
    "conn = sqlite3.connect(dbname)\n",
    "pd.read_sql_query('SELECT * from GCIF_LIST_DB', conn)"
   ]
  },
  {
   "cell_type": "markdown",
   "metadata": {},
   "source": [
    "### 20181228"
   ]
  },
  {
   "cell_type": "code",
   "execution_count": 8,
   "metadata": {
    "collapsed": true
   },
   "outputs": [],
   "source": [
    "data = '''\n",
    "GCIF,name,kbn,internal_rating\n",
    "0234,BB,CUS,5\n",
    "3330,JO,IBK,2\n",
    "1127,IK,CPP,9\n",
    "3843,KP,CUS,2\n",
    "'''\n",
    "df_data_201812 = pd.read_csv(StringIO(data))\n",
    "df_data_201812['base_date'] = '20181228'"
   ]
  },
  {
   "cell_type": "markdown",
   "metadata": {},
   "source": [
    "#### wirte sql"
   ]
  },
  {
   "cell_type": "code",
   "execution_count": 1,
   "metadata": {},
   "outputs": [
    {
     "ename": "NameError",
     "evalue": "name 'sqlite3' is not defined",
     "output_type": "error",
     "traceback": [
      "\u001b[0;31m---------------------------------------------------------\u001b[0m",
      "\u001b[0;31mNameError\u001b[0m               Traceback (most recent call last)",
      "\u001b[0;32m<ipython-input-1-f18867517eee>\u001b[0m in \u001b[0;36m<module>\u001b[0;34m()\u001b[0m\n\u001b[1;32m      1\u001b[0m \u001b[0mdbname\u001b[0m \u001b[0;34m=\u001b[0m \u001b[0;34m'/Users/susynishida/Desktop/dev/DB/test/GCIF_LIST.db'\u001b[0m\u001b[0;34m\u001b[0m\u001b[0m\n\u001b[0;32m----> 2\u001b[0;31m \u001b[0mconn\u001b[0m \u001b[0;34m=\u001b[0m \u001b[0msqlite3\u001b[0m\u001b[0;34m.\u001b[0m\u001b[0mconnect\u001b[0m\u001b[0;34m(\u001b[0m\u001b[0mdbname\u001b[0m\u001b[0;34m)\u001b[0m\u001b[0;34m\u001b[0m\u001b[0m\n\u001b[0m\u001b[1;32m      3\u001b[0m \u001b[0mdf_data_201812\u001b[0m\u001b[0;34m.\u001b[0m\u001b[0mto_sql\u001b[0m\u001b[0;34m(\u001b[0m\u001b[0;34m'GCIF_LIST_DB'\u001b[0m\u001b[0;34m,\u001b[0m \u001b[0mconn\u001b[0m\u001b[0;34m,\u001b[0m \u001b[0mif_exists\u001b[0m\u001b[0;34m=\u001b[0m\u001b[0;34m'append'\u001b[0m\u001b[0;34m,\u001b[0m \u001b[0mindex\u001b[0m\u001b[0;34m=\u001b[0m\u001b[0;32mFalse\u001b[0m\u001b[0;34m)\u001b[0m\u001b[0;34m\u001b[0m\u001b[0m\n\u001b[1;32m      4\u001b[0m \u001b[0mconn\u001b[0m\u001b[0;34m.\u001b[0m\u001b[0mclose\u001b[0m\u001b[0;34m(\u001b[0m\u001b[0;34m)\u001b[0m\u001b[0;34m\u001b[0m\u001b[0m\n",
      "\u001b[0;31mNameError\u001b[0m: name 'sqlite3' is not defined"
     ]
    }
   ],
   "source": [
    "dbname = '/Users/susynishida/Desktop/dev/DB/test/GCIF_LIST.db'\n",
    "conn = sqlite3.connect(dbname)\n",
    "df_data_201812.to_sql('GCIF_LIST_DB', conn, if_exists='append', index=False)\n",
    "conn.close()"
   ]
  },
  {
   "cell_type": "markdown",
   "metadata": {},
   "source": [
    "#### read sql"
   ]
  },
  {
   "cell_type": "code",
   "execution_count": 40,
   "metadata": {},
   "outputs": [
    {
     "data": {
      "text/html": [
       "<div>\n",
       "<style>\n",
       "    .dataframe thead tr:only-child th {\n",
       "        text-align: right;\n",
       "    }\n",
       "\n",
       "    .dataframe thead th {\n",
       "        text-align: left;\n",
       "    }\n",
       "\n",
       "    .dataframe tbody tr th {\n",
       "        vertical-align: top;\n",
       "    }\n",
       "</style>\n",
       "<table border=\"1\" class=\"dataframe\">\n",
       "  <thead>\n",
       "    <tr style=\"text-align: right;\">\n",
       "      <th></th>\n",
       "      <th>GCIF</th>\n",
       "      <th>name</th>\n",
       "      <th>kbn</th>\n",
       "      <th>internal_rating</th>\n",
       "      <th>base_date</th>\n",
       "    </tr>\n",
       "  </thead>\n",
       "  <tbody>\n",
       "    <tr>\n",
       "      <th>0</th>\n",
       "      <td>234</td>\n",
       "      <td>BB</td>\n",
       "      <td>CUS</td>\n",
       "      <td>5</td>\n",
       "      <td>20180928</td>\n",
       "    </tr>\n",
       "    <tr>\n",
       "      <th>1</th>\n",
       "      <td>3330</td>\n",
       "      <td>JO</td>\n",
       "      <td>IBK</td>\n",
       "      <td>2</td>\n",
       "      <td>20180928</td>\n",
       "    </tr>\n",
       "    <tr>\n",
       "      <th>2</th>\n",
       "      <td>1127</td>\n",
       "      <td>IK</td>\n",
       "      <td>CPP</td>\n",
       "      <td>9</td>\n",
       "      <td>20180928</td>\n",
       "    </tr>\n",
       "    <tr>\n",
       "      <th>3</th>\n",
       "      <td>3843</td>\n",
       "      <td>KP</td>\n",
       "      <td>CUS</td>\n",
       "      <td>2</td>\n",
       "      <td>20180928</td>\n",
       "    </tr>\n",
       "    <tr>\n",
       "      <th>4</th>\n",
       "      <td>8977</td>\n",
       "      <td>HU</td>\n",
       "      <td>CUS</td>\n",
       "      <td>1</td>\n",
       "      <td>20181228</td>\n",
       "    </tr>\n",
       "    <tr>\n",
       "      <th>5</th>\n",
       "      <td>7089</td>\n",
       "      <td>MO</td>\n",
       "      <td>IBK</td>\n",
       "      <td>6</td>\n",
       "      <td>20181228</td>\n",
       "    </tr>\n",
       "    <tr>\n",
       "      <th>6</th>\n",
       "      <td>3871</td>\n",
       "      <td>MP</td>\n",
       "      <td>CPP</td>\n",
       "      <td>4</td>\n",
       "      <td>20181228</td>\n",
       "    </tr>\n",
       "    <tr>\n",
       "      <th>7</th>\n",
       "      <td>7064</td>\n",
       "      <td>BU</td>\n",
       "      <td>CUS</td>\n",
       "      <td>3</td>\n",
       "      <td>20181228</td>\n",
       "    </tr>\n",
       "    <tr>\n",
       "      <th>8</th>\n",
       "      <td>6453</td>\n",
       "      <td>HU</td>\n",
       "      <td>CUS</td>\n",
       "      <td>8</td>\n",
       "      <td>20190329</td>\n",
       "    </tr>\n",
       "    <tr>\n",
       "      <th>9</th>\n",
       "      <td>915</td>\n",
       "      <td>HP</td>\n",
       "      <td>CUS</td>\n",
       "      <td>3</td>\n",
       "      <td>20190329</td>\n",
       "    </tr>\n",
       "    <tr>\n",
       "      <th>10</th>\n",
       "      <td>167</td>\n",
       "      <td>JQ</td>\n",
       "      <td>CCP</td>\n",
       "      <td>9</td>\n",
       "      <td>20190329</td>\n",
       "    </tr>\n",
       "    <tr>\n",
       "      <th>11</th>\n",
       "      <td>4447</td>\n",
       "      <td>CC</td>\n",
       "      <td>CCP</td>\n",
       "      <td>5</td>\n",
       "      <td>20190329</td>\n",
       "    </tr>\n",
       "  </tbody>\n",
       "</table>\n",
       "</div>"
      ],
      "text/plain": [
       "    GCIF name  kbn  internal_rating base_date\n",
       "0    234   BB  CUS                5  20180928\n",
       "1   3330   JO  IBK                2  20180928\n",
       "2   1127   IK  CPP                9  20180928\n",
       "3   3843   KP  CUS                2  20180928\n",
       "4   8977   HU  CUS                1  20181228\n",
       "5   7089   MO  IBK                6  20181228\n",
       "6   3871   MP  CPP                4  20181228\n",
       "7   7064   BU  CUS                3  20181228\n",
       "8   6453   HU  CUS                8  20190329\n",
       "9    915   HP  CUS                3  20190329\n",
       "10   167   JQ  CCP                9  20190329\n",
       "11  4447   CC  CCP                5  20190329"
      ]
     },
     "execution_count": 40,
     "metadata": {},
     "output_type": "execute_result"
    }
   ],
   "source": [
    "conn = sqlite3.connect(dbname)\n",
    "pd.read_sql_query('SELECT * from  GCIF_LIST_DB', conn)"
   ]
  },
  {
   "cell_type": "markdown",
   "metadata": {},
   "source": [
    "## DELETE DB"
   ]
  },
  {
   "cell_type": "markdown",
   "metadata": {},
   "source": [
    "###  Using where"
   ]
  },
  {
   "cell_type": "code",
   "execution_count": 233,
   "metadata": {
    "collapsed": true
   },
   "outputs": [],
   "source": [
    "conn = sqlite3.connect(dbname)\n",
    "cur = conn.cursor()\n",
    "cur.execute(\"\"\"DELETE from GCIF_LIST_DB where base_date='20181228'\"\"\")\n",
    "conn.commit()"
   ]
  },
  {
   "cell_type": "markdown",
   "metadata": {},
   "source": [
    "### All"
   ]
  },
  {
   "cell_type": "code",
   "execution_count": 54,
   "metadata": {},
   "outputs": [
    {
     "ename": "OperationalError",
     "evalue": "no such table: GCIF_LIST_DB",
     "output_type": "error",
     "traceback": [
      "\u001b[0;31m---------------------------------------------------------\u001b[0m",
      "\u001b[0;31mOperationalError\u001b[0m        Traceback (most recent call last)",
      "\u001b[0;32m<ipython-input-54-4f8d10b350b3>\u001b[0m in \u001b[0;36m<module>\u001b[0;34m()\u001b[0m\n\u001b[1;32m      1\u001b[0m \u001b[0mconn\u001b[0m \u001b[0;34m=\u001b[0m \u001b[0msqlite3\u001b[0m\u001b[0;34m.\u001b[0m\u001b[0mconnect\u001b[0m\u001b[0;34m(\u001b[0m\u001b[0mdbname\u001b[0m\u001b[0;34m)\u001b[0m\u001b[0;34m\u001b[0m\u001b[0m\n\u001b[1;32m      2\u001b[0m \u001b[0mcur\u001b[0m \u001b[0;34m=\u001b[0m \u001b[0mconn\u001b[0m\u001b[0;34m.\u001b[0m\u001b[0mcursor\u001b[0m\u001b[0;34m(\u001b[0m\u001b[0;34m)\u001b[0m\u001b[0;34m\u001b[0m\u001b[0m\n\u001b[0;32m----> 3\u001b[0;31m \u001b[0mcur\u001b[0m\u001b[0;34m.\u001b[0m\u001b[0mexecute\u001b[0m\u001b[0;34m(\u001b[0m\u001b[0;34m\"\"\"DELETE from GCIF_LIST_DB\"\"\"\u001b[0m\u001b[0;34m)\u001b[0m\u001b[0;34m\u001b[0m\u001b[0m\n\u001b[0m\u001b[1;32m      4\u001b[0m \u001b[0mconn\u001b[0m\u001b[0;34m.\u001b[0m\u001b[0mcommit\u001b[0m\u001b[0;34m(\u001b[0m\u001b[0;34m)\u001b[0m\u001b[0;34m\u001b[0m\u001b[0m\n",
      "\u001b[0;31mOperationalError\u001b[0m: no such table: GCIF_LIST_DB"
     ]
    }
   ],
   "source": [
    "conn = sqlite3.connect(dbname)\n",
    "cur = conn.cursor()\n",
    "cur.execute(\"\"\"DELETE from GCIF_LIST_DB\"\"\")\n",
    "conn.commit()"
   ]
  },
  {
   "cell_type": "markdown",
   "metadata": {},
   "source": [
    "## Create Table"
   ]
  },
  {
   "cell_type": "code",
   "execution_count": 20,
   "metadata": {
    "collapsed": true
   },
   "outputs": [],
   "source": [
    "dbname = '/Users/susynishida/Desktop/dev/DB/test/GCIF_LIST.db'\n",
    "conn = sqlite3.connect(dbname)\n",
    "cur = conn.cursor()\n",
    "cur.execute('CREATE table IF NOT EXISTS GCIF_LIST_DB(GCIF integer, name varchar(64), kbn varchar(64), internal_rating integer, base_date varchar(64))')\n",
    "conn.commit()\n",
    "conn.close()"
   ]
  },
  {
   "cell_type": "markdown",
   "metadata": {},
   "source": [
    "## INSERT"
   ]
  },
  {
   "cell_type": "code",
   "execution_count": 163,
   "metadata": {
    "collapsed": true
   },
   "outputs": [],
   "source": [
    "conn = sqlite3.connect(dbname)\n",
    "cur = conn.cursor()\n",
    "sql_command = 'INSERT into GCIF_LIST_DB (GCIF, name, kbn, internal_rating, base_date) values (?, ?, ?, ?, ?)'\n",
    "values = (9873, 'CM', 'CUS', 3, '20180531')\n",
    "cur.execute(sql_command, values)\n",
    "conn.commit()"
   ]
  },
  {
   "cell_type": "code",
   "execution_count": 24,
   "metadata": {},
   "outputs": [
    {
     "data": {
      "text/plain": [
       "[]"
      ]
     },
     "execution_count": 24,
     "metadata": {},
     "output_type": "execute_result"
    }
   ],
   "source": [
    "conn = sqlite3.connect(dbname)\n",
    "cur = conn.cursor()\n",
    "cur.execute('SELECT * from GCIF_LIST_DB')\n",
    "cur.fetchall()"
   ]
  },
  {
   "cell_type": "markdown",
   "metadata": {},
   "source": [
    "# define function: add_db by inputting base_date and show GCIF_LIST\n",
    "- 型はしっかり定義しないと予想と反する動きをする\n",
    "- 以下のコードで，str_base_dateはsqlの絡むでも文字列を想定しているが，何も設定しないとNONE型となり，\n",
    "- 抽出条件に引っかからなくなる\n",
    "- (コンピュータ的には)数値でも文字列でもない何かが入っており，こちらが指定しても反応してくれない．\n",
    "```cur.execute(\"\"\"SELECT * from {}\"\"\".format(table_name) + \"\"\" where base_date={}\"\"\".format(str_base_date))```"
   ]
  },
  {
   "cell_type": "code",
   "execution_count": 103,
   "metadata": {
    "collapsed": true
   },
   "outputs": [],
   "source": [
    "# def add_db_GCIF_LIST(str_base_date, root_path, dbpath, table_name):\n",
    "#     df_temp = pd.read_csv(root_path + '/GCIF_LIST_' + str_base_date +  '.csv')\n",
    "#     df_temp['base_date'] = str_base_date\n",
    "#     conn = sqlite3.connect(dbpath)\n",
    "#     cur = conn.cursor()\n",
    "#     cur.execute(\"\"\"SELECT * from GCIF_LIST_DB where base_date={}\"\"\".format(str_base_date))\n",
    "#     if(len(cur.fetchall()) == False):\n",
    "#         print('This base date: ({}) '.format(str_base_date) + 'is new. Add database quickly.')\n",
    "#         df_temp.to_sql(table_name, conn, if_exists='append', index=False)\n",
    "#         conn.close()\n",
    "#     else:\n",
    "#         print('this base date: ({}) '.format(str_base_date) + 'is duplicated! Drop exsisting table and add new table.')\n",
    "#         cur.execute(\"\"\"DELETE from GCIF_LIST_DB where base_date={}\"\"\".format(str_base_date))\n",
    "#         df_temp.to_sql(table_name, conn, if_exists='append', index=False)\n",
    "#         conn.close()\n",
    "    \n",
    "def connect_GCIF_LIST(dbpath, table_name):\n",
    "    conn = sqlite3.connect(dbpath)\n",
    "    return pd.read_sql_query('SELECT * from {}'.format(table_name), conn)\n",
    "\n",
    "def add_db_GCIF_LIST(str_base_date, root_path, dbpath, table_name):\n",
    "    df_temp = pd.read_csv(root_path + '/GCIF_LIST_' + str_base_date +  '.csv')\n",
    "    df_temp['base_date'] = str_base_date\n",
    "    try:\n",
    "        conn = sqlite3.connect(dbpath)\n",
    "        cur = conn.cursor()\n",
    "        cur.execute(\"\"\"SELECT * from {}\"\"\".format(table_name) + \"\"\" where base_date='{}'\"\"\".format(str_base_date))\n",
    "        if(len(cur.fetchall()) == 0):\n",
    "            print('This base date: ({}) '.format(str_base_date) + 'is new. Add database quickly.')\n",
    "            df_temp.to_sql(table_name, conn, if_exists='append', index=False)\n",
    "            conn.close()\n",
    "        else:\n",
    "            print('this base date: ({}) '.format(str_base_date) + 'is duplicated! Drop exsisting table and add new table.')\n",
    "            cur.execute(\"\"\"DELETE from GCIF_LIST_DB where base_date='{}'\"\"\".format(str_base_date))\n",
    "            df_temp.to_sql(table_name, conn, if_exists='append', index=False)\n",
    "            conn.close()\n",
    "    except OperationalError:\n",
    "        print('no such table: {}'.format(table_name))\n",
    "        sql_com_ct = 'CREATE table {}'.format(table_name) + '(GCIF int, name varchar(64), kbn varchar(64), internal_rating int, base_date varchar(64))'\n",
    "        cur.execute(sql_com_ct) \n",
    "        conn.commit()\n",
    "        conn.close()"
   ]
  },
  {
   "cell_type": "markdown",
   "metadata": {},
   "source": [
    "## test function\n",
    "### do"
   ]
  },
  {
   "cell_type": "code",
   "execution_count": 106,
   "metadata": {},
   "outputs": [
    {
     "name": "stdout",
     "output_type": "stream",
     "text": [
      "This base date: (20180928) is new. Add database quickly.\n",
      "this base date: (20181228) is duplicated! Drop exsisting table and add new table.\n",
      "this base date: (20190329) is duplicated! Drop exsisting table and add new table.\n"
     ]
    }
   ],
   "source": [
    "root_path = '/Users/susynishida/Desktop/dev/DB_input/test'\n",
    "dbpath = '/Users/susynishida/Desktop/dev/DB/test/GCIF_LIST.db'\n",
    "table_name =  'GCIF_LIST_DB'\n",
    "add_db_GCIF_LIST('20180928', root_path, dbpath, table_name)\n",
    "add_db_GCIF_LIST('20181228', root_path, dbpath, table_name)\n",
    "add_db_GCIF_LIST('20190329', root_path, dbpath, table_name)"
   ]
  },
  {
   "cell_type": "markdown",
   "metadata": {},
   "source": [
    "### show DB"
   ]
  },
  {
   "cell_type": "code",
   "execution_count": 107,
   "metadata": {},
   "outputs": [
    {
     "data": {
      "text/html": [
       "<div>\n",
       "<style>\n",
       "    .dataframe thead tr:only-child th {\n",
       "        text-align: right;\n",
       "    }\n",
       "\n",
       "    .dataframe thead th {\n",
       "        text-align: left;\n",
       "    }\n",
       "\n",
       "    .dataframe tbody tr th {\n",
       "        vertical-align: top;\n",
       "    }\n",
       "</style>\n",
       "<table border=\"1\" class=\"dataframe\">\n",
       "  <thead>\n",
       "    <tr style=\"text-align: right;\">\n",
       "      <th></th>\n",
       "      <th>GCIF</th>\n",
       "      <th>name</th>\n",
       "      <th>kbn</th>\n",
       "      <th>internal_rating</th>\n",
       "      <th>base_date</th>\n",
       "    </tr>\n",
       "  </thead>\n",
       "  <tbody>\n",
       "    <tr>\n",
       "      <th>0</th>\n",
       "      <td>234</td>\n",
       "      <td>BB</td>\n",
       "      <td>CUS</td>\n",
       "      <td>5</td>\n",
       "      <td>20180928</td>\n",
       "    </tr>\n",
       "    <tr>\n",
       "      <th>1</th>\n",
       "      <td>3330</td>\n",
       "      <td>JO</td>\n",
       "      <td>IBK</td>\n",
       "      <td>2</td>\n",
       "      <td>20180928</td>\n",
       "    </tr>\n",
       "    <tr>\n",
       "      <th>2</th>\n",
       "      <td>1127</td>\n",
       "      <td>IK</td>\n",
       "      <td>CPP</td>\n",
       "      <td>9</td>\n",
       "      <td>20180928</td>\n",
       "    </tr>\n",
       "    <tr>\n",
       "      <th>3</th>\n",
       "      <td>3843</td>\n",
       "      <td>KP</td>\n",
       "      <td>CUS</td>\n",
       "      <td>2</td>\n",
       "      <td>20180928</td>\n",
       "    </tr>\n",
       "    <tr>\n",
       "      <th>4</th>\n",
       "      <td>8977</td>\n",
       "      <td>HU</td>\n",
       "      <td>CUS</td>\n",
       "      <td>1</td>\n",
       "      <td>20181228</td>\n",
       "    </tr>\n",
       "    <tr>\n",
       "      <th>5</th>\n",
       "      <td>7089</td>\n",
       "      <td>MO</td>\n",
       "      <td>IBK</td>\n",
       "      <td>6</td>\n",
       "      <td>20181228</td>\n",
       "    </tr>\n",
       "    <tr>\n",
       "      <th>6</th>\n",
       "      <td>3871</td>\n",
       "      <td>MP</td>\n",
       "      <td>CPP</td>\n",
       "      <td>4</td>\n",
       "      <td>20181228</td>\n",
       "    </tr>\n",
       "    <tr>\n",
       "      <th>7</th>\n",
       "      <td>7064</td>\n",
       "      <td>BU</td>\n",
       "      <td>CUS</td>\n",
       "      <td>3</td>\n",
       "      <td>20181228</td>\n",
       "    </tr>\n",
       "    <tr>\n",
       "      <th>8</th>\n",
       "      <td>6453</td>\n",
       "      <td>HU</td>\n",
       "      <td>CUS</td>\n",
       "      <td>8</td>\n",
       "      <td>20190329</td>\n",
       "    </tr>\n",
       "    <tr>\n",
       "      <th>9</th>\n",
       "      <td>915</td>\n",
       "      <td>HP</td>\n",
       "      <td>CUS</td>\n",
       "      <td>3</td>\n",
       "      <td>20190329</td>\n",
       "    </tr>\n",
       "    <tr>\n",
       "      <th>10</th>\n",
       "      <td>167</td>\n",
       "      <td>JQ</td>\n",
       "      <td>CCP</td>\n",
       "      <td>9</td>\n",
       "      <td>20190329</td>\n",
       "    </tr>\n",
       "    <tr>\n",
       "      <th>11</th>\n",
       "      <td>4447</td>\n",
       "      <td>CC</td>\n",
       "      <td>CCP</td>\n",
       "      <td>5</td>\n",
       "      <td>20190329</td>\n",
       "    </tr>\n",
       "  </tbody>\n",
       "</table>\n",
       "</div>"
      ],
      "text/plain": [
       "    GCIF name  kbn  internal_rating base_date\n",
       "0    234   BB  CUS                5  20180928\n",
       "1   3330   JO  IBK                2  20180928\n",
       "2   1127   IK  CPP                9  20180928\n",
       "3   3843   KP  CUS                2  20180928\n",
       "4   8977   HU  CUS                1  20181228\n",
       "5   7089   MO  IBK                6  20181228\n",
       "6   3871   MP  CPP                4  20181228\n",
       "7   7064   BU  CUS                3  20181228\n",
       "8   6453   HU  CUS                8  20190329\n",
       "9    915   HP  CUS                3  20190329\n",
       "10   167   JQ  CCP                9  20190329\n",
       "11  4447   CC  CCP                5  20190329"
      ]
     },
     "execution_count": 107,
     "metadata": {},
     "output_type": "execute_result"
    }
   ],
   "source": [
    "dbpath = '/Users/susynishida/Desktop/dev/DB/test/GCIF_LIST.db'\n",
    "table_name =  'GCIF_LIST_DB'\n",
    "connect_GCIF_LIST(dbpath, table_name)"
   ]
  },
  {
   "cell_type": "markdown",
   "metadata": {},
   "source": [
    "### test where (型のチェック)"
   ]
  },
  {
   "cell_type": "code",
   "execution_count": 108,
   "metadata": {},
   "outputs": [
    {
     "name": "stdout",
     "output_type": "stream",
     "text": [
      "SELECT * from GCIF_LIST_DB where base_date=20181228\n"
     ]
    },
    {
     "data": {
      "text/plain": [
       "[(8977, 'HU', 'CUS', 1, '20181228'),\n",
       " (7089, 'MO', 'IBK', 6, '20181228'),\n",
       " (3871, 'MP', 'CPP', 4, '20181228'),\n",
       " (7064, 'BU', 'CUS', 3, '20181228')]"
      ]
     },
     "execution_count": 108,
     "metadata": {},
     "output_type": "execute_result"
    }
   ],
   "source": [
    "conn = sqlite3.connect(dbname)\n",
    "cur = conn.cursor()\n",
    "cur.execute(\"\"\"SELECT * from {}\"\"\".format('GCIF_LIST_DB') + \"\"\" where base_date={}\"\"\".format(20181228))\n",
    "print(\"\"\"SELECT * from {}\"\"\".format('GCIF_LIST_DB') + \"\"\" where base_date={}\"\"\".format(20181228))\n",
    "cur.fetchall()"
   ]
  },
  {
   "cell_type": "markdown",
   "metadata": {},
   "source": [
    "## trial: add null base_date"
   ]
  },
  {
   "cell_type": "code",
   "execution_count": 2,
   "metadata": {},
   "outputs": [
    {
     "ename": "NameError",
     "evalue": "name 'pd' is not defined",
     "output_type": "error",
     "traceback": [
      "\u001b[0;31m---------------------------------------------------------\u001b[0m",
      "\u001b[0;31mNameError\u001b[0m               Traceback (most recent call last)",
      "\u001b[0;32m<ipython-input-2-f9f5dbe0b8e5>\u001b[0m in \u001b[0;36m<module>\u001b[0;34m()\u001b[0m\n\u001b[1;32m      2\u001b[0m \u001b[0mdbpath\u001b[0m \u001b[0;34m=\u001b[0m \u001b[0;34m'/Users/susynishida/Desktop/dev/DB/test/GCIF_LIST.db'\u001b[0m\u001b[0;34m\u001b[0m\u001b[0m\n\u001b[1;32m      3\u001b[0m \u001b[0mtable_name\u001b[0m \u001b[0;34m=\u001b[0m  \u001b[0;34m'GCIF_LIST_DB'\u001b[0m\u001b[0;34m\u001b[0m\u001b[0m\n\u001b[0;32m----> 4\u001b[0;31m \u001b[0mdf_20180630\u001b[0m \u001b[0;34m=\u001b[0m \u001b[0mpd\u001b[0m\u001b[0;34m.\u001b[0m\u001b[0mread_csv\u001b[0m\u001b[0;34m(\u001b[0m\u001b[0mroot_path\u001b[0m \u001b[0;34m+\u001b[0m \u001b[0;34m'/GCIF_LIST_'\u001b[0m \u001b[0;34m+\u001b[0m \u001b[0;34m'20180630.csv'\u001b[0m\u001b[0;34m)\u001b[0m\u001b[0;34m\u001b[0m\u001b[0m\n\u001b[0m\u001b[1;32m      5\u001b[0m \u001b[0mconn\u001b[0m \u001b[0;34m=\u001b[0m \u001b[0msqlite3\u001b[0m\u001b[0;34m.\u001b[0m\u001b[0mconnect\u001b[0m\u001b[0;34m(\u001b[0m\u001b[0mdbname\u001b[0m\u001b[0;34m)\u001b[0m\u001b[0;34m\u001b[0m\u001b[0m\n\u001b[1;32m      6\u001b[0m \u001b[0mdf_20180630\u001b[0m\u001b[0;34m.\u001b[0m\u001b[0mto_sql\u001b[0m\u001b[0;34m(\u001b[0m\u001b[0mtable_name\u001b[0m\u001b[0;34m,\u001b[0m \u001b[0mconn\u001b[0m\u001b[0;34m,\u001b[0m \u001b[0mif_exists\u001b[0m\u001b[0;34m=\u001b[0m\u001b[0;34m'append'\u001b[0m\u001b[0;34m,\u001b[0m \u001b[0mindex\u001b[0m\u001b[0;34m=\u001b[0m\u001b[0;32mFalse\u001b[0m\u001b[0;34m)\u001b[0m\u001b[0;34m\u001b[0m\u001b[0m\n",
      "\u001b[0;31mNameError\u001b[0m: name 'pd' is not defined"
     ]
    }
   ],
   "source": [
    "root_path = '/Users/susynishida/Desktop/dev/DB_input/test'\n",
    "dbpath = '/Users/susynishida/Desktop/dev/DB/test/GCIF_LIST.db'\n",
    "table_name =  'GCIF_LIST_DB'\n",
    "df_20180630 = pd.read_csv(root_path + '/GCIF_LIST_' + '20180630.csv')\n",
    "conn = sqlite3.connect(dbname)\n",
    "df_20180630.to_sql(table_name, conn, if_exists='append', index=False)\n",
    "connect_GCIF_LIST(dbpath, table_name)"
   ]
  },
  {
   "cell_type": "markdown",
   "metadata": {},
   "source": [
    "### select null in base_date"
   ]
  },
  {
   "cell_type": "code",
   "execution_count": 129,
   "metadata": {},
   "outputs": [
    {
     "data": {
      "text/plain": [
       "[(1111, 'LL', 'IBK', 2, None),\n",
       " (2355, 'KK', 'CUS', 1, None),\n",
       " (3683, 'PP', 'IBK', 1, None),\n",
       " (2340, 'DD', 'CCP', 8, None),\n",
       " (1111, 'LL', 'IBK', 2, None),\n",
       " (2355, 'KK', 'CUS', 1, None),\n",
       " (3683, 'PP', 'IBK', 1, None),\n",
       " (2340, 'DD', 'CCP', 8, None)]"
      ]
     },
     "execution_count": 129,
     "metadata": {},
     "output_type": "execute_result"
    }
   ],
   "source": [
    "conn = sqlite3.connect(dbname)\n",
    "cur = conn.cursor()\n",
    "cur.execute(\"\"\"SELECT * from GCIF_LIST_DB where base_date is null\"\"\")\n",
    "cur.fetchall()"
   ]
  },
  {
   "cell_type": "markdown",
   "metadata": {},
   "source": [
    "### delete null in base_date\n",
    "- executeするときは必ずcommitする!!"
   ]
  },
  {
   "cell_type": "code",
   "execution_count": 139,
   "metadata": {},
   "outputs": [
    {
     "data": {
      "text/plain": [
       "[]"
      ]
     },
     "execution_count": 139,
     "metadata": {},
     "output_type": "execute_result"
    }
   ],
   "source": [
    "conn = sqlite3.connect(dbname)\n",
    "cur = conn.cursor()\n",
    "cur.execute(\"\"\"DELETE from GCIF_LIST_DB where base_date IS NULL\"\"\")\n",
    "conn.commit()"
   ]
  },
  {
   "cell_type": "code",
   "execution_count": null,
   "metadata": {
    "collapsed": true
   },
   "outputs": [],
   "source": []
  }
 ],
 "metadata": {
  "kernelspec": {
   "display_name": "Python 3",
   "language": "python",
   "name": "python3"
  },
  "language_info": {
   "codemirror_mode": {
    "name": "ipython",
    "version": 3
   },
   "file_extension": ".py",
   "mimetype": "text/x-python",
   "name": "python",
   "nbconvert_exporter": "python",
   "pygments_lexer": "ipython3",
   "version": "3.6.2"
  },
  "toc": {
   "base_numbering": 1,
   "nav_menu": {},
   "number_sections": true,
   "sideBar": true,
   "skip_h1_title": false,
   "title_cell": "Table of Contents",
   "title_sidebar": "Contents",
   "toc_cell": false,
   "toc_position": {},
   "toc_section_display": true,
   "toc_window_display": false
  }
 },
 "nbformat": 4,
 "nbformat_minor": 2
}
