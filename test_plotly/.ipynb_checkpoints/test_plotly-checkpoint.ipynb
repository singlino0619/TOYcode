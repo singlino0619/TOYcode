{
 "cells": [
  {
   "cell_type": "code",
   "execution_count": 33,
   "metadata": {},
   "outputs": [
    {
     "name": "stderr",
     "output_type": "stream",
     "text": [
      "IOPub data rate exceeded.\n",
      "The notebook server will temporarily stop sending output\n",
      "to the client in order to avoid crashing it.\n",
      "To change this limit, set the config variable\n",
      "`--NotebookApp.iopub_data_rate_limit`.\n"
     ]
    }
   ],
   "source": [
    "import plotly\n",
    "plotly.offline.init_notebook_mode(connected=False)\n",
    "import pandas as pd"
   ]
  },
  {
   "cell_type": "code",
   "execution_count": 34,
   "metadata": {},
   "outputs": [
    {
     "data": {
      "text/html": [
       "<div>\n",
       "<style>\n",
       "    .dataframe thead tr:only-child th {\n",
       "        text-align: right;\n",
       "    }\n",
       "\n",
       "    .dataframe thead th {\n",
       "        text-align: left;\n",
       "    }\n",
       "\n",
       "    .dataframe tbody tr th {\n",
       "        vertical-align: top;\n",
       "    }\n",
       "</style>\n",
       "<table border=\"1\" class=\"dataframe\">\n",
       "  <thead>\n",
       "    <tr style=\"text-align: right;\">\n",
       "      <th></th>\n",
       "      <th>year</th>\n",
       "      <th>births</th>\n",
       "      <th>birth rate</th>\n",
       "    </tr>\n",
       "  </thead>\n",
       "  <tbody>\n",
       "    <tr>\n",
       "      <th>0</th>\n",
       "      <td>2000</td>\n",
       "      <td>1190547</td>\n",
       "      <td>1.36</td>\n",
       "    </tr>\n",
       "    <tr>\n",
       "      <th>1</th>\n",
       "      <td>2001</td>\n",
       "      <td>1170662</td>\n",
       "      <td>1.33</td>\n",
       "    </tr>\n",
       "    <tr>\n",
       "      <th>2</th>\n",
       "      <td>2002</td>\n",
       "      <td>1153855</td>\n",
       "      <td>1.32</td>\n",
       "    </tr>\n",
       "    <tr>\n",
       "      <th>3</th>\n",
       "      <td>2003</td>\n",
       "      <td>1123610</td>\n",
       "      <td>1.29</td>\n",
       "    </tr>\n",
       "    <tr>\n",
       "      <th>4</th>\n",
       "      <td>2004</td>\n",
       "      <td>1110721</td>\n",
       "      <td>1.29</td>\n",
       "    </tr>\n",
       "  </tbody>\n",
       "</table>\n",
       "</div>"
      ],
      "text/plain": [
       "   year   births  birth rate\n",
       "0  2000  1190547        1.36\n",
       "1  2001  1170662        1.33\n",
       "2  2002  1153855        1.32\n",
       "3  2003  1123610        1.29\n",
       "4  2004  1110721        1.29"
      ]
     },
     "execution_count": 34,
     "metadata": {},
     "output_type": "execute_result"
    }
   ],
   "source": [
    "raw = pd.read_csv('brith.csv')\n",
    "raw.head()"
   ]
  },
  {
   "cell_type": "code",
   "execution_count": 35,
   "metadata": {},
   "outputs": [],
   "source": [
    "data = [\n",
    "    plotly.graph_objs.Bar(x=raw[\"year\"], y=raw[\"births\"], name=\"Births\"),\n",
    "    plotly.graph_objs.Scatter(x=raw[\"year\"], y=raw[\"birth rate\"], name=\"Birth Rate\", yaxis=\"y2\")\n",
    "]"
   ]
  },
  {
   "cell_type": "code",
   "execution_count": 36,
   "metadata": {
    "collapsed": true
   },
   "outputs": [],
   "source": [
    "layout = plotly.graph_objs.Layout(\n",
    "    title=\"Births and Birth Rate in Japan\",\n",
    "    legend={\"x\":0.8, \"y\":0.1},\n",
    "    xaxis={\"title\":\"Year\"},\n",
    "    yaxis={\"title\":\"Births\"},\n",
    "    yaxis2={\"title\":\"Birth Rate\", \"overlaying\":\"y\", \"side\":\"right\"},\n",
    ")"
   ]
  },
  {
   "cell_type": "code",
   "execution_count": 37,
   "metadata": {},
   "outputs": [
    {
     "data": {
      "application/vnd.plotly.v1+json": {
       "config": {
        "linkText": "Export to plot.ly",
        "plotlyServerURL": "https://plot.ly",
        "showLink": false
       },
       "data": [
        {
         "name": "Births",
         "type": "bar",
         "uid": "235ea0c4-f8fe-4f14-8c95-89fdbe714469",
         "x": [
          2000,
          2001,
          2002,
          2003,
          2004,
          2005,
          2006,
          2007,
          2008,
          2009,
          2010,
          2011,
          2012,
          2013,
          2014,
          2015
         ],
         "y": [
          1190547,
          1170662,
          1153855,
          1123610,
          1110721,
          1062530,
          1092674,
          1089818,
          1091156,
          1070035,
          1071304,
          1050806,
          1037101,
          1029816,
          1003532,
          1005656
         ]
        },
        {
         "name": "Birth Rate",
         "type": "scatter",
         "uid": "8cb326c2-3a59-4799-8bda-7cc809864acd",
         "x": [
          2000,
          2001,
          2002,
          2003,
          2004,
          2005,
          2006,
          2007,
          2008,
          2009,
          2010,
          2011,
          2012,
          2013,
          2014,
          2015
         ],
         "y": [
          1.36,
          1.33,
          1.32,
          1.29,
          1.29,
          1.26,
          1.32,
          1.34,
          1.37,
          1.37,
          1.39,
          1.39,
          1.41,
          1.43,
          1.42,
          1.46
         ],
         "yaxis": "y2"
        }
       ],
       "layout": {
        "legend": {
         "x": 0.8,
         "y": 0.1
        },
        "title": {
         "text": "Births and Birth Rate in Japan"
        },
        "xaxis": {
         "title": {
          "text": "Year"
         }
        },
        "yaxis": {
         "title": {
          "text": "Births"
         }
        },
        "yaxis2": {
         "overlaying": "y",
         "side": "right",
         "title": {
          "text": "Birth Rate"
         }
        }
       }
      },
      "text/html": [
       "<div id=\"fca44d06-9ab8-4d13-a821-f7275caa2703\" style=\"height: 525px; width: 100%;\" class=\"plotly-graph-div\"></div><script type=\"text/javascript\">require([\"plotly\"], function(Plotly) { window.PLOTLYENV=window.PLOTLYENV || {};window.PLOTLYENV.BASE_URL=\"https://plot.ly\";Plotly.newPlot(\"fca44d06-9ab8-4d13-a821-f7275caa2703\", [{\"name\": \"Births\", \"x\": [2000, 2001, 2002, 2003, 2004, 2005, 2006, 2007, 2008, 2009, 2010, 2011, 2012, 2013, 2014, 2015], \"y\": [1190547, 1170662, 1153855, 1123610, 1110721, 1062530, 1092674, 1089818, 1091156, 1070035, 1071304, 1050806, 1037101, 1029816, 1003532, 1005656], \"type\": \"bar\", \"uid\": \"235ea0c4-f8fe-4f14-8c95-89fdbe714469\"}, {\"name\": \"Birth Rate\", \"x\": [2000, 2001, 2002, 2003, 2004, 2005, 2006, 2007, 2008, 2009, 2010, 2011, 2012, 2013, 2014, 2015], \"y\": [1.36, 1.33, 1.32, 1.29, 1.29, 1.26, 1.32, 1.34, 1.37, 1.37, 1.39, 1.39, 1.41, 1.43, 1.42, 1.46], \"yaxis\": \"y2\", \"type\": \"scatter\", \"uid\": \"8cb326c2-3a59-4799-8bda-7cc809864acd\"}], {\"legend\": {\"x\": 0.8, \"y\": 0.1}, \"title\": {\"text\": \"Births and Birth Rate in Japan\"}, \"xaxis\": {\"title\": {\"text\": \"Year\"}}, \"yaxis\": {\"title\": {\"text\": \"Births\"}}, \"yaxis2\": {\"overlaying\": \"y\", \"side\": \"right\", \"title\": {\"text\": \"Birth Rate\"}}}, {\"showLink\": false, \"linkText\": \"Export to plot.ly\", \"plotlyServerURL\": \"https://plot.ly\"})});</script><script type=\"text/javascript\">window.addEventListener(\"resize\", function(){window._Plotly.Plots.resize(document.getElementById(\"fca44d06-9ab8-4d13-a821-f7275caa2703\"));});</script>"
      ],
      "text/vnd.plotly.v1+html": [
       "<div id=\"fca44d06-9ab8-4d13-a821-f7275caa2703\" style=\"height: 525px; width: 100%;\" class=\"plotly-graph-div\"></div><script type=\"text/javascript\">require([\"plotly\"], function(Plotly) { window.PLOTLYENV=window.PLOTLYENV || {};window.PLOTLYENV.BASE_URL=\"https://plot.ly\";Plotly.newPlot(\"fca44d06-9ab8-4d13-a821-f7275caa2703\", [{\"name\": \"Births\", \"x\": [2000, 2001, 2002, 2003, 2004, 2005, 2006, 2007, 2008, 2009, 2010, 2011, 2012, 2013, 2014, 2015], \"y\": [1190547, 1170662, 1153855, 1123610, 1110721, 1062530, 1092674, 1089818, 1091156, 1070035, 1071304, 1050806, 1037101, 1029816, 1003532, 1005656], \"type\": \"bar\", \"uid\": \"235ea0c4-f8fe-4f14-8c95-89fdbe714469\"}, {\"name\": \"Birth Rate\", \"x\": [2000, 2001, 2002, 2003, 2004, 2005, 2006, 2007, 2008, 2009, 2010, 2011, 2012, 2013, 2014, 2015], \"y\": [1.36, 1.33, 1.32, 1.29, 1.29, 1.26, 1.32, 1.34, 1.37, 1.37, 1.39, 1.39, 1.41, 1.43, 1.42, 1.46], \"yaxis\": \"y2\", \"type\": \"scatter\", \"uid\": \"8cb326c2-3a59-4799-8bda-7cc809864acd\"}], {\"legend\": {\"x\": 0.8, \"y\": 0.1}, \"title\": {\"text\": \"Births and Birth Rate in Japan\"}, \"xaxis\": {\"title\": {\"text\": \"Year\"}}, \"yaxis\": {\"title\": {\"text\": \"Births\"}}, \"yaxis2\": {\"overlaying\": \"y\", \"side\": \"right\", \"title\": {\"text\": \"Birth Rate\"}}}, {\"showLink\": false, \"linkText\": \"Export to plot.ly\", \"plotlyServerURL\": \"https://plot.ly\"})});</script><script type=\"text/javascript\">window.addEventListener(\"resize\", function(){window._Plotly.Plots.resize(document.getElementById(\"fca44d06-9ab8-4d13-a821-f7275caa2703\"));});</script>"
      ]
     },
     "metadata": {},
     "output_type": "display_data"
    }
   ],
   "source": [
    "fig = plotly.graph_objs.Figure(data=data, layout=layout)\n",
    "plotly.offline.iplot(fig)\n",
    "#plotly.offline.plot(fig)"
   ]
  },
  {
   "cell_type": "code",
   "execution_count": 39,
   "metadata": {},
   "outputs": [
    {
     "data": {
      "text/plain": [
       "'file:///Users/susynishida/Desktop/dev/Python/TOYcode/TOYcode/test_plotly/scatter-mode.html'"
      ]
     },
     "execution_count": 39,
     "metadata": {},
     "output_type": "execute_result"
    }
   ],
   "source": [
    "# coding:utf-8\n",
    "#import plotly.plotly as py\n",
    "import plotly.offline as offline\n",
    "import plotly.graph_objs as go\n",
    "#offline.init_notebook_mode()\n",
    "\n",
    "# Create random data with numpy\n",
    "import numpy as np\n",
    "\n",
    "N = 100\n",
    "random_x = np.linspace(0, 1, N)\n",
    "random_y0 = np.random.randn(N)+5\n",
    "random_y1 = np.random.randn(N)\n",
    "random_y2 = np.random.randn(N)-5\n",
    "\n",
    "# Create traces\n",
    "trace0 = go.Scatter(\n",
    "    x = random_x,\n",
    "    y = random_y0,\n",
    "    mode = 'markers',\n",
    "    name = 'markers'\n",
    ")\n",
    "trace1 = go.Scatter(\n",
    "    x = random_x,\n",
    "    y = random_y1,\n",
    "    mode = 'lines+markers',\n",
    "    name = 'lines+markers'\n",
    ")\n",
    "trace2 = go.Scatter(\n",
    "    x = random_x,\n",
    "    y = random_y2,\n",
    "    mode = 'lines',\n",
    "    name = 'lines'\n",
    ")\n",
    "\n",
    "layout = go.Layout(\n",
    "    title='たいとる',\n",
    "    xaxis=dict(title='えっくすじく'),\n",
    "    yaxis=dict(title='わいじく'),\n",
    "    showlegend=True)\n",
    "\n",
    "data = [trace0, trace1, trace2]\n",
    "fig = dict(data=data, layout=layout)\n",
    "offline.plot(fig, filename='scatter-mode.html', image=\"png\")"
   ]
  },
  {
   "cell_type": "code",
   "execution_count": 42,
   "metadata": {},
   "outputs": [
    {
     "name": "stderr",
     "output_type": "stream",
     "text": [
      "/Users/susynishida/anaconda3/lib/python3.6/site-packages/IPython/core/interactiveshell.py:2862: FutureWarning:\n",
      "\n",
      "\n",
      "mpl_style had been deprecated and will be removed in a future version.\n",
      "Use `matplotlib.pyplot.style.use` instead.\n",
      "\n",
      "\n"
     ]
    },
    {
     "ename": "NotImplementedError",
     "evalue": "YahooJPReaderは削除されました https://www.yahoo-help.jp/app/answers/detail/p/546/a_id/93575",
     "output_type": "error",
     "traceback": [
      "\u001b[0;31m---------------------------------------------------------------------------\u001b[0m",
      "\u001b[0;31mNotImplementedError\u001b[0m                       Traceback (most recent call last)",
      "\u001b[0;32m<ipython-input-42-1667064cd64c>\u001b[0m in \u001b[0;36m<module>\u001b[0;34m()\u001b[0m\n\u001b[1;32m      7\u001b[0m \u001b[0;31m# 終値のみを取得し、一つのDataFrameに結合\u001b[0m\u001b[0;34m\u001b[0m\u001b[0;34m\u001b[0m\u001b[0m\n\u001b[1;32m      8\u001b[0m \u001b[0;32mimport\u001b[0m \u001b[0mjapandas\u001b[0m \u001b[0;32mas\u001b[0m \u001b[0mjpd\u001b[0m\u001b[0;34m\u001b[0m\u001b[0m\n\u001b[0;32m----> 9\u001b[0;31m \u001b[0mtoyota\u001b[0m \u001b[0;34m=\u001b[0m \u001b[0mjpd\u001b[0m\u001b[0;34m.\u001b[0m\u001b[0mDataReader\u001b[0m\u001b[0;34m(\u001b[0m\u001b[0;36m7203\u001b[0m\u001b[0;34m,\u001b[0m \u001b[0;34m'yahoojp'\u001b[0m\u001b[0;34m,\u001b[0m \u001b[0mstart\u001b[0m\u001b[0;34m=\u001b[0m\u001b[0;34m'2018-01-01'\u001b[0m\u001b[0;34m)\u001b[0m\u001b[0;34m[\u001b[0m\u001b[0;34m[\u001b[0m\u001b[0;34mu'終値'\u001b[0m\u001b[0;34m]\u001b[0m\u001b[0;34m]\u001b[0m\u001b[0;34m\u001b[0m\u001b[0m\n\u001b[0m\u001b[1;32m     10\u001b[0m \u001b[0mtoyota\u001b[0m\u001b[0;34m.\u001b[0m\u001b[0mcolumns\u001b[0m \u001b[0;34m=\u001b[0m \u001b[0;34m[\u001b[0m\u001b[0;34mu'トヨタ'\u001b[0m\u001b[0;34m]\u001b[0m\u001b[0;34m\u001b[0m\u001b[0m\n\u001b[1;32m     11\u001b[0m \u001b[0mhonda\u001b[0m \u001b[0;34m=\u001b[0m \u001b[0mjpd\u001b[0m\u001b[0;34m.\u001b[0m\u001b[0mDataReader\u001b[0m\u001b[0;34m(\u001b[0m\u001b[0;36m7267\u001b[0m\u001b[0;34m,\u001b[0m \u001b[0;34m'yahoojp'\u001b[0m\u001b[0;34m,\u001b[0m \u001b[0mstart\u001b[0m\u001b[0;34m=\u001b[0m\u001b[0;34m'2018-01-01'\u001b[0m\u001b[0;34m)\u001b[0m\u001b[0;34m[\u001b[0m\u001b[0;34m[\u001b[0m\u001b[0;34mu'終値'\u001b[0m\u001b[0;34m]\u001b[0m\u001b[0;34m]\u001b[0m\u001b[0;34m\u001b[0m\u001b[0m\n",
      "\u001b[0;32m~/anaconda3/lib/python3.6/site-packages/japandas/io/data.py\u001b[0m in \u001b[0;36mDataReader\u001b[0;34m(symbols, data_source, start, end, appid, **kwargs)\u001b[0m\n\u001b[1;32m     16\u001b[0m     \u001b[0;32mif\u001b[0m \u001b[0mdata_source\u001b[0m \u001b[0;34m==\u001b[0m \u001b[0;34m'yahoojp'\u001b[0m\u001b[0;34m:\u001b[0m\u001b[0;34m\u001b[0m\u001b[0m\n\u001b[1;32m     17\u001b[0m         \u001b[0mmsg\u001b[0m \u001b[0;34m=\u001b[0m \u001b[0;34m\"YahooJPReaderは削除されました https://www.yahoo-help.jp/app/answers/detail/p/546/a_id/93575\"\u001b[0m\u001b[0;34m\u001b[0m\u001b[0m\n\u001b[0;32m---> 18\u001b[0;31m         \u001b[0;32mraise\u001b[0m \u001b[0mNotImplementedError\u001b[0m\u001b[0;34m(\u001b[0m\u001b[0mmsg\u001b[0m\u001b[0;34m)\u001b[0m\u001b[0;34m\u001b[0m\u001b[0m\n\u001b[0m\u001b[1;32m     19\u001b[0m     \u001b[0;32melif\u001b[0m \u001b[0mdata_source\u001b[0m \u001b[0;34m==\u001b[0m \u001b[0;34m'estat'\u001b[0m\u001b[0;34m:\u001b[0m\u001b[0;34m\u001b[0m\u001b[0m\n\u001b[1;32m     20\u001b[0m         \u001b[0;32mreturn\u001b[0m \u001b[0mEStatReader\u001b[0m\u001b[0;34m(\u001b[0m\u001b[0msymbols\u001b[0m\u001b[0;34m=\u001b[0m\u001b[0msymbols\u001b[0m\u001b[0;34m,\u001b[0m \u001b[0mappid\u001b[0m\u001b[0;34m=\u001b[0m\u001b[0mappid\u001b[0m\u001b[0;34m,\u001b[0m \u001b[0;34m**\u001b[0m\u001b[0mkwargs\u001b[0m\u001b[0;34m)\u001b[0m\u001b[0;34m.\u001b[0m\u001b[0mread\u001b[0m\u001b[0;34m(\u001b[0m\u001b[0;34m)\u001b[0m\u001b[0;34m\u001b[0m\u001b[0m\n",
      "\u001b[0;31mNotImplementedError\u001b[0m: YahooJPReaderは削除されました https://www.yahoo-help.jp/app/answers/detail/p/546/a_id/93575"
     ]
    }
   ],
   "source": [
    "from spyre import server\n",
    "\n",
    "import pandas as pd\n",
    "pd.options.display.mpl_style = 'default'\n",
    "\n",
    "# あらかじめデータを取得しておく\n",
    "# 終値のみを取得し、一つのDataFrameに結合\n",
    "import japandas as jpd\n",
    "toyota = jpd.DataReader(7203, 'yahoojp', start='2018-01-01')[[u'終値']]\n",
    "toyota.columns = [u'トヨタ']\n",
    "honda = jpd.DataReader(7267, 'yahoojp', start='2018-01-01')[[u'終値']]\n",
    "honda.columns = [u'ホンダ']\n",
    "df = toyota.join(honda)\n",
    "\n",
    "\n",
    "# spyre.server.App を継承したクラスを作る\n",
    "class StockExample(server.App):\n",
    "    title = u\"株価のプロット\"\n",
    "\n",
    "    # 左側のペインに表示する UI 要素を辞書のリストで指定\n",
    "    # ここではドロップダウン一つだけを表示\n",
    "    inputs = [{\"input_type\":'dropdown', \n",
    "               # ドロップダウン自体の表示ラベル\n",
    "               \"label\": 'Frequency',\n",
    "               # ドロップダウンの選択項目を指定\n",
    "               # label はドロップダウン項目の表示ラベル\n",
    "               # value は各項目が選択された時にプログラム中で利用される値\n",
    "               \"options\" : [ {\"label\": \"月次\", \"value\":\"M\"},\n",
    "                             {\"label\": \"週次\", \"value\":\"W\"},\n",
    "                             {\"label\": \"日次\", \"value\":\"B\"}],\n",
    "               # 各 UI 要素の入力は各描画メソッド (getData, getPlot) に\n",
    "               # 辞書型の引数 params として渡される\n",
    "               # その辞書から値を取り出す際のキー名\n",
    "               \"variable_name\": 'freq',\n",
    "               \"action_id\": \"update_data\" }]\n",
    "\n",
    "    # 画面を更新する設定\n",
    "    controls = [{\"control_type\" : \"hidden\",\n",
    "                 \"label\" : \"update\",\n",
    "                 \"control_id\" : \"update_data\"}]\n",
    "\n",
    "    # 描画するタブの表示ラベルを文字列のリストで指定\n",
    "    tabs = [u\"トヨタ\", u\"ホンダ\", u\"データ\"]\n",
    "\n",
    "    # tabs で指定したそれぞれのタブに描画する内容を辞書のリストで指定\n",
    "    outputs = [{\"output_type\" : \"plot\", # matplotlib のプロットを描画する\n",
    "                \"output_id\" : \"toyota\", # 描画するタブに固有の id\n",
    "                \"control_id\" : \"update_data\",\n",
    "                \"tab\" : u\"トヨタ\",       # 描画するタブの表示ラベル (tabs に含まれるもの)\n",
    "                \"on_page_load\" : True },\n",
    "\n",
    "               {\"output_type\" : \"plot\",\n",
    "                \"output_id\" : \"honda\",\n",
    "                \"control_id\" : \"update_data\",\n",
    "                \"tab\" : u\"ホンダ\",\n",
    "                \"on_page_load\" : True },\n",
    "\n",
    "               {\"output_type\" : \"table\", # DataFrameを描画する\n",
    "                \"output_id\" : \"table_id\",\n",
    "                \"control_id\" : \"update_data\",\n",
    "                \"tab\" : u\"データ\",\n",
    "                \"on_page_load\" : True }]\n",
    "\n",
    "    def getData(self, params):\n",
    "        \"\"\"\n",
    "        output_type=\"table\" を指定したタブを描画する際に呼ばれるメソッド\n",
    "        DataFrameを返すこと\n",
    "\n",
    "        params は UI 要素の入力 + いくつかのメタデータを含む辞書\n",
    "        UI 要素の入力は inputs で指定した variable_name をキーとして行う\n",
    "        \"\"\"\n",
    "        # ドロップダウンの値を取得\n",
    "        # 値にはユーザの選択によって、options -> value で指定された M, W, B いずれかが入る\n",
    "        freq = params['freq']\n",
    "\n",
    "        # freq でグループ化し平均をとる\n",
    "        tmp = df.groupby(pd.TimeGrouper(freq)).mean()\n",
    "        return tmp\n",
    "\n",
    "    def getPlot(self, params):\n",
    "        \"\"\"\n",
    "        output_type=\"plot\" を指定したタブを描画する際に呼ばれるメソッド\n",
    "        matplotlib.Figureを返すこと\n",
    "        \"\"\"\n",
    "        tmp = self.getData(params)\n",
    "\n",
    "        # 同じ output_type で複数のタブを描画したい場合は、 params に含まれる\n",
    "        # output_id で分岐させる\n",
    "        # output_id は タブの表示ラベルではなく、outputs 中で指定した output_id\n",
    "        if params['output_id'] == 'toyota':\n",
    "            ax = tmp[[u'トヨタ']].plot(legend=False)\n",
    "            return ax.get_figure()\n",
    "        elif params['output_id'] == 'honda':\n",
    "            ax = tmp[[u'ホンダ']].plot(legend=False)\n",
    "            return ax.get_figure()\n",
    "        else:\n",
    "            raise ValueError\n",
    "\n",
    "\n",
    "app = StockExample()\n",
    "# port 9093 で Webサーバ + アプリを起動\n",
    "app.launch(port=9093)"
   ]
  },
  {
   "cell_type": "code",
   "execution_count": 47,
   "metadata": {},
   "outputs": [
    {
     "ename": "AttributeError",
     "evalue": "module '__main__' has no attribute '__file__'",
     "output_type": "error",
     "traceback": [
      "\u001b[0;31m---------------------------------------------------------------------------\u001b[0m",
      "\u001b[0;31mAttributeError\u001b[0m                            Traceback (most recent call last)",
      "\u001b[0;32m<ipython-input-47-41d1fe0d8ec3>\u001b[0m in \u001b[0;36m<module>\u001b[0;34m()\u001b[0m\n\u001b[1;32m     17\u001b[0m \u001b[0;34m\u001b[0m\u001b[0m\n\u001b[1;32m     18\u001b[0m \u001b[0mapp\u001b[0m \u001b[0;34m=\u001b[0m \u001b[0mSimpleApp\u001b[0m\u001b[0;34m(\u001b[0m\u001b[0;34m)\u001b[0m\u001b[0;34m\u001b[0m\u001b[0m\n\u001b[0;32m---> 19\u001b[0;31m \u001b[0mapp\u001b[0m\u001b[0;34m.\u001b[0m\u001b[0mlaunch\u001b[0m\u001b[0;34m(\u001b[0m\u001b[0;34m)\u001b[0m\u001b[0;34m\u001b[0m\u001b[0m\n\u001b[0m",
      "\u001b[0;32m~/anaconda3/lib/python3.6/site-packages/spyre/server.py\u001b[0m in \u001b[0;36mlaunch\u001b[0;34m(self, host, port, prefix, config)\u001b[0m\n\u001b[1;32m    460\u001b[0m     \u001b[0;32mdef\u001b[0m \u001b[0mlaunch\u001b[0m\u001b[0;34m(\u001b[0m\u001b[0mself\u001b[0m\u001b[0;34m,\u001b[0m \u001b[0mhost\u001b[0m\u001b[0;34m=\u001b[0m\u001b[0;34m\"local\"\u001b[0m\u001b[0;34m,\u001b[0m \u001b[0mport\u001b[0m\u001b[0;34m=\u001b[0m\u001b[0;36m8080\u001b[0m\u001b[0;34m,\u001b[0m \u001b[0mprefix\u001b[0m\u001b[0;34m=\u001b[0m\u001b[0;34m'/'\u001b[0m\u001b[0;34m,\u001b[0m \u001b[0mconfig\u001b[0m\u001b[0;34m=\u001b[0m\u001b[0;32mNone\u001b[0m\u001b[0;34m)\u001b[0m\u001b[0;34m:\u001b[0m\u001b[0;34m\u001b[0m\u001b[0m\n\u001b[1;32m    461\u001b[0m         \u001b[0mself\u001b[0m\u001b[0;34m.\u001b[0m\u001b[0mprefix\u001b[0m \u001b[0;34m=\u001b[0m \u001b[0mprefix\u001b[0m\u001b[0;34m\u001b[0m\u001b[0m\n\u001b[0;32m--> 462\u001b[0;31m         \u001b[0mwebapp\u001b[0m \u001b[0;34m=\u001b[0m \u001b[0mself\u001b[0m\u001b[0;34m.\u001b[0m\u001b[0mgetRoot\u001b[0m\u001b[0;34m(\u001b[0m\u001b[0;34m)\u001b[0m\u001b[0;34m\u001b[0m\u001b[0m\n\u001b[0m\u001b[1;32m    463\u001b[0m         \u001b[0;32mif\u001b[0m \u001b[0mhost\u001b[0m \u001b[0;34m!=\u001b[0m \u001b[0;34m\"local\"\u001b[0m\u001b[0;34m:\u001b[0m\u001b[0;34m\u001b[0m\u001b[0m\n\u001b[1;32m    464\u001b[0m             \u001b[0mcherrypy\u001b[0m\u001b[0;34m.\u001b[0m\u001b[0mserver\u001b[0m\u001b[0;34m.\u001b[0m\u001b[0msocket_host\u001b[0m \u001b[0;34m=\u001b[0m \u001b[0;34m'0.0.0.0'\u001b[0m\u001b[0;34m\u001b[0m\u001b[0m\n",
      "\u001b[0;32m~/anaconda3/lib/python3.6/site-packages/spyre/server.py\u001b[0m in \u001b[0;36mgetRoot\u001b[0;34m(self)\u001b[0m\n\u001b[1;32m    502\u001b[0m             \u001b[0mnoOutputFunction\u001b[0m\u001b[0;34m=\u001b[0m\u001b[0mself\u001b[0m\u001b[0;34m.\u001b[0m\u001b[0mnoOutput\u001b[0m\u001b[0;34m,\u001b[0m\u001b[0;34m\u001b[0m\u001b[0m\n\u001b[1;32m    503\u001b[0m             \u001b[0mstoreUploadFunction\u001b[0m\u001b[0;34m=\u001b[0m\u001b[0mself\u001b[0m\u001b[0;34m.\u001b[0m\u001b[0mstoreUpload\u001b[0m\u001b[0;34m,\u001b[0m\u001b[0;34m\u001b[0m\u001b[0m\n\u001b[0;32m--> 504\u001b[0;31m             \u001b[0mprefix\u001b[0m\u001b[0;34m=\u001b[0m\u001b[0mself\u001b[0m\u001b[0;34m.\u001b[0m\u001b[0mprefix\u001b[0m\u001b[0;34m\u001b[0m\u001b[0m\n\u001b[0m\u001b[1;32m    505\u001b[0m         )\n\u001b[1;32m    506\u001b[0m \u001b[0;34m\u001b[0m\u001b[0m\n",
      "\u001b[0;32m~/anaconda3/lib/python3.6/site-packages/spyre/server.py\u001b[0m in \u001b[0;36m__init__\u001b[0;34m(self, templateVars, title, inputs, outputs, controls, tabs, spinnerFile, getJsonDataFunction, getDataFunction, getTableFunction, getPlotFunction, getImageFunction, getD3Function, getCustomCSSFunction, getCustomJSFunction, getCustomHeadFunction, getHTMLFunction, getDownloadFunction, noOutputFunction, storeUploadFunction, prefix)\u001b[0m\n\u001b[1;32m    131\u001b[0m         \u001b[0mself\u001b[0m\u001b[0;34m.\u001b[0m\u001b[0mtemplateVars\u001b[0m\u001b[0;34m[\u001b[0m\u001b[0;34m'custom_head'\u001b[0m\u001b[0;34m]\u001b[0m \u001b[0;34m=\u001b[0m \u001b[0mcustom_head\u001b[0m\u001b[0;34m\u001b[0m\u001b[0m\n\u001b[1;32m    132\u001b[0m \u001b[0;34m\u001b[0m\u001b[0m\n\u001b[0;32m--> 133\u001b[0;31m         \u001b[0mv\u001b[0m \u001b[0;34m=\u001b[0m \u001b[0mView\u001b[0m\u001b[0;34m.\u001b[0m\u001b[0mView\u001b[0m\u001b[0;34m(\u001b[0m\u001b[0;34m)\u001b[0m\u001b[0;34m\u001b[0m\u001b[0m\n\u001b[0m\u001b[1;32m    134\u001b[0m         \u001b[0mself\u001b[0m\u001b[0;34m.\u001b[0m\u001b[0mtemplateVars\u001b[0m\u001b[0;34m[\u001b[0m\u001b[0;34m'document_ready_js'\u001b[0m\u001b[0;34m]\u001b[0m \u001b[0;34m=\u001b[0m \u001b[0;34m\"\"\u001b[0m\u001b[0;34m\u001b[0m\u001b[0m\n\u001b[1;32m    135\u001b[0m         \u001b[0mself\u001b[0m\u001b[0;34m.\u001b[0m\u001b[0mtemplateVars\u001b[0m\u001b[0;34m[\u001b[0m\u001b[0;34m'js'\u001b[0m\u001b[0;34m]\u001b[0m \u001b[0;34m=\u001b[0m \u001b[0mv\u001b[0m\u001b[0;34m.\u001b[0m\u001b[0mgetJS\u001b[0m\u001b[0;34m(\u001b[0m\u001b[0;34m)\u001b[0m\u001b[0;34m\u001b[0m\u001b[0m\n",
      "\u001b[0;32m~/anaconda3/lib/python3.6/site-packages/spyre/View.py\u001b[0m in \u001b[0;36m__init__\u001b[0;34m(self)\u001b[0m\n\u001b[1;32m     21\u001b[0m         \u001b[0mself\u001b[0m\u001b[0;34m.\u001b[0m\u001b[0mJS_PATH\u001b[0m \u001b[0;34m=\u001b[0m \u001b[0mos\u001b[0m\u001b[0;34m.\u001b[0m\u001b[0mpath\u001b[0m\u001b[0;34m.\u001b[0m\u001b[0mjoin\u001b[0m\u001b[0;34m(\u001b[0m\u001b[0mself\u001b[0m\u001b[0;34m.\u001b[0m\u001b[0mROOT_DIR\u001b[0m\u001b[0;34m,\u001b[0m \u001b[0;34m'public'\u001b[0m\u001b[0;34m,\u001b[0m \u001b[0;34m'js'\u001b[0m\u001b[0;34m)\u001b[0m\u001b[0;34m\u001b[0m\u001b[0m\n\u001b[1;32m     22\u001b[0m         \u001b[0mself\u001b[0m\u001b[0;34m.\u001b[0m\u001b[0mCSS_PATH\u001b[0m \u001b[0;34m=\u001b[0m \u001b[0mos\u001b[0m\u001b[0;34m.\u001b[0m\u001b[0mpath\u001b[0m\u001b[0;34m.\u001b[0m\u001b[0mjoin\u001b[0m\u001b[0;34m(\u001b[0m\u001b[0mself\u001b[0m\u001b[0;34m.\u001b[0m\u001b[0mROOT_DIR\u001b[0m\u001b[0;34m,\u001b[0m \u001b[0;34m'public'\u001b[0m\u001b[0;34m,\u001b[0m \u001b[0;34m'css'\u001b[0m\u001b[0;34m)\u001b[0m\u001b[0;34m\u001b[0m\u001b[0m\n\u001b[0;32m---> 23\u001b[0;31m         \u001b[0mself\u001b[0m\u001b[0;34m.\u001b[0m\u001b[0mAPP_PATH\u001b[0m \u001b[0;34m=\u001b[0m \u001b[0mos\u001b[0m\u001b[0;34m.\u001b[0m\u001b[0mpath\u001b[0m\u001b[0;34m.\u001b[0m\u001b[0mdirname\u001b[0m\u001b[0;34m(\u001b[0m\u001b[0mos\u001b[0m\u001b[0;34m.\u001b[0m\u001b[0mpath\u001b[0m\u001b[0;34m.\u001b[0m\u001b[0mrealpath\u001b[0m\u001b[0;34m(\u001b[0m\u001b[0m__main__\u001b[0m\u001b[0;34m.\u001b[0m\u001b[0m__file__\u001b[0m\u001b[0;34m)\u001b[0m\u001b[0;34m)\u001b[0m\u001b[0;34m\u001b[0m\u001b[0m\n\u001b[0m\u001b[1;32m     24\u001b[0m \u001b[0;34m\u001b[0m\u001b[0m\n\u001b[1;32m     25\u001b[0m     \u001b[0;32mdef\u001b[0m \u001b[0mgetHTML\u001b[0m\u001b[0;34m(\u001b[0m\u001b[0mself\u001b[0m\u001b[0;34m)\u001b[0m\u001b[0;34m:\u001b[0m\u001b[0;34m\u001b[0m\u001b[0m\n",
      "\u001b[0;31mAttributeError\u001b[0m: module '__main__' has no attribute '__file__'"
     ]
    }
   ],
   "source": [
    "from spyre import server\n",
    "\n",
    "class SimpleApp(server.App):\n",
    "    title = \"Simple App\"\n",
    "    inputs = [dict( type='text',\n",
    "                    key='words',\n",
    "                    label='write words here',\n",
    "                    value='hello world',\n",
    "                    action_id='simple_html_output')]\n",
    "\n",
    "    outputs = [dict( type='html',\n",
    "                     id='simple_html_output')]\n",
    "\n",
    "    def getHTML(self, params):\n",
    "        words = params[\"words\"]\n",
    "        return \"Here's what you wrote in the textbox: <b>%s</b>\" % words\n",
    "\n",
    "app = SimpleApp()\n",
    "app.launch()"
   ]
  },
  {
   "cell_type": "code",
   "execution_count": null,
   "metadata": {
    "collapsed": true
   },
   "outputs": [],
   "source": []
  }
 ],
 "metadata": {
  "kernelspec": {
   "display_name": "Python 3",
   "language": "python",
   "name": "python3"
  },
  "language_info": {
   "codemirror_mode": {
    "name": "ipython",
    "version": 3
   },
   "file_extension": ".py",
   "mimetype": "text/x-python",
   "name": "python",
   "nbconvert_exporter": "python",
   "pygments_lexer": "ipython3",
   "version": "3.6.2"
  }
 },
 "nbformat": 4,
 "nbformat_minor": 2
}
